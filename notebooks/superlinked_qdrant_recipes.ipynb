{
 "cells": [
  {
   "cell_type": "markdown",
   "metadata": {},
   "source": [
    "Run this notebook in the same virtual environment with superlinked server\n",
    "to ensure the same version of `superlinked` framework."
   ]
  },
  {
   "cell_type": "code",
   "execution_count": null,
   "metadata": {},
   "outputs": [],
   "source": [
    "!pip freeze | grep superlinked"
   ]
  },
  {
   "cell_type": "code",
   "execution_count": 1,
   "metadata": {},
   "outputs": [
    {
     "name": "stdout",
     "output_type": "stream",
     "text": [
      "project_dir is added to sys.path\n"
     ]
    }
   ],
   "source": [
    "from pathlib import Path\n",
    "import sys\n",
    "\n",
    "# depending on the user's setup\n",
    "# we will try to find the superlinked_app directory\n",
    "# and add it to the sys.path\n",
    "\n",
    "cwd = Path.cwd()\n",
    "if cwd.name == \"superlinked-recipes\":\n",
    "    project_dir = cwd / \"projects\" / \"recipe-search\"\n",
    "elif cwd.name == \"notebooks\":\n",
    "    project_dir = cwd.parent\n",
    "else:\n",
    "    project_dir = cwd\n",
    "\n",
    "superlinked_app_dir = project_dir / \"superlinked_app\"\n",
    "assert superlinked_app_dir.exists(), (\n",
    "    f\"{superlinked_app_dir} does not exist\\n\"\n",
    "    \"are you sure you are in the recipe-search/notebooks directory?\"\n",
    ")\n",
    "\n",
    "if str(project_dir) not in sys.path:\n",
    "    sys.path.append(str(project_dir))\n",
    "    print(\"project_dir is added to sys.path\")\n",
    "else:\n",
    "    print(\"project_dir is already in sys.path\")"
   ]
  },
  {
   "cell_type": "markdown",
   "metadata": {},
   "source": [
    "### This is to use the collection_name=sherlockrecipes"
   ]
  },
  {
   "cell_type": "code",
   "execution_count": 2,
   "metadata": {},
   "outputs": [],
   "source": [
    "import os\n",
    "os.environ[\"APP_ID\"] = \"sherlockrecipes\"\n",
    "os.environ[\"SUPERLINKED_NLQ_ENABLE_VALIDATION_FOLLOWUP\"] = \"false\"\n"
   ]
  },
  {
   "cell_type": "code",
   "execution_count": 3,
   "metadata": {},
   "outputs": [
    {
     "name": "stderr",
     "output_type": "stream",
     "text": [
      "/home/biso/development/my_projects/.venv/lib/python3.12/site-packages/tqdm/auto.py:21: TqdmWarning: IProgress not found. Please update jupyter and ipywidgets. See https://ipywidgets.readthedocs.io/en/stable/user_install.html\n",
      "  from .autonotebook import tqdm as notebook_tqdm\n"
     ]
    },
    {
     "name": "stdout",
     "output_type": "stream",
     "text": [
      "17:56:26 sentence_transformers.SentenceTransformer INFO   Load pretrained SentenceTransformer: sentence-transformers/paraphrase-MiniLM-L3-v2\n"
     ]
    },
    {
     "name": "stderr",
     "output_type": "stream",
     "text": [
      "Batches: 100%|██████████| 1/1 [00:00<00:00, 100.14it/s]"
     ]
    },
    {
     "name": "stdout",
     "output_type": "stream",
     "text": [
      "17:56:28 superlinked.framework.common.space.embedding.model_based.embedding_engine_manager INFO   Consider caching model dimension.\n",
      "17:56:28 superlinked.framework.common.space.embedding.model_based.embedding_engine_manager INFO   Consider caching model dimension.\n",
      "17:56:28 superlinked.framework.common.space.embedding.model_based.embedding_engine_manager INFO   Consider caching model dimension.\n",
      "17:56:28 superlinked.framework.dsl.index.index INFO   initialized index\n"
     ]
    },
    {
     "name": "stderr",
     "output_type": "stream",
     "text": [
      "\n"
     ]
    }
   ],
   "source": [
    "from superlinked import framework as sl\n",
    "\n",
    "from superlinked_app.index import index, recipe_schema\n",
    "from superlinked_app.query import query\n",
    "from superlinked_app.api import vector_database\n",
    "\n",
    "import pandas as pd"
   ]
  },
  {
   "cell_type": "code",
   "execution_count": 4,
   "metadata": {},
   "outputs": [
    {
     "name": "stdout",
     "output_type": "stream",
     "text": [
      "17:56:29 httpx INFO   HTTP Request: GET https://bad13d43-afc8-44b5-8b37-2fa1eb4f0236.eu-west-1-0.aws.cloud.qdrant.io:6333 \"HTTP/1.1 200 OK\"\n",
      "17:56:29 httpx INFO   HTTP Request: GET https://bad13d43-afc8-44b5-8b37-2fa1eb4f0236.eu-west-1-0.aws.cloud.qdrant.io:6333/collections/sherlockrecipes/exists \"HTTP/1.1 200 OK\"\n",
      "17:56:29 httpx INFO   HTTP Request: GET https://bad13d43-afc8-44b5-8b37-2fa1eb4f0236.eu-west-1-0.aws.cloud.qdrant.io:6333/collections/sherlockrecipes \"HTTP/1.1 200 OK\"\n",
      "17:56:29 httpx INFO   HTTP Request: PUT https://bad13d43-afc8-44b5-8b37-2fa1eb4f0236.eu-west-1-0.aws.cloud.qdrant.io:6333/collections/sherlockrecipes/index?wait=true \"HTTP/1.1 200 OK\"\n",
      "17:56:30 httpx INFO   HTTP Request: PUT https://bad13d43-afc8-44b5-8b37-2fa1eb4f0236.eu-west-1-0.aws.cloud.qdrant.io:6333/collections/sherlockrecipes/index?wait=true \"HTTP/1.1 200 OK\"\n",
      "17:56:30 httpx INFO   HTTP Request: PUT https://bad13d43-afc8-44b5-8b37-2fa1eb4f0236.eu-west-1-0.aws.cloud.qdrant.io:6333/collections/sherlockrecipes/index?wait=true \"HTTP/1.1 200 OK\"\n",
      "17:56:30 httpx INFO   HTTP Request: PUT https://bad13d43-afc8-44b5-8b37-2fa1eb4f0236.eu-west-1-0.aws.cloud.qdrant.io:6333/collections/sherlockrecipes/index?wait=true \"HTTP/1.1 200 OK\"\n",
      "17:56:30 httpx INFO   HTTP Request: PUT https://bad13d43-afc8-44b5-8b37-2fa1eb4f0236.eu-west-1-0.aws.cloud.qdrant.io:6333/collections/sherlockrecipes/index?wait=true \"HTTP/1.1 200 OK\"\n",
      "17:56:30 httpx INFO   HTTP Request: PUT https://bad13d43-afc8-44b5-8b37-2fa1eb4f0236.eu-west-1-0.aws.cloud.qdrant.io:6333/collections/sherlockrecipes/index?wait=true \"HTTP/1.1 200 OK\"\n",
      "17:56:30 httpx INFO   HTTP Request: PUT https://bad13d43-afc8-44b5-8b37-2fa1eb4f0236.eu-west-1-0.aws.cloud.qdrant.io:6333/collections/sherlockrecipes/index?wait=true \"HTTP/1.1 200 OK\"\n",
      "17:56:30 httpx INFO   HTTP Request: PUT https://bad13d43-afc8-44b5-8b37-2fa1eb4f0236.eu-west-1-0.aws.cloud.qdrant.io:6333/collections/sherlockrecipes/index?wait=true \"HTTP/1.1 200 OK\"\n",
      "17:56:30 httpx INFO   HTTP Request: PUT https://bad13d43-afc8-44b5-8b37-2fa1eb4f0236.eu-west-1-0.aws.cloud.qdrant.io:6333/collections/sherlockrecipes/index?wait=true \"HTTP/1.1 200 OK\"\n",
      "17:56:30 httpx INFO   HTTP Request: PUT https://bad13d43-afc8-44b5-8b37-2fa1eb4f0236.eu-west-1-0.aws.cloud.qdrant.io:6333/collections/sherlockrecipes/index?wait=true \"HTTP/1.1 200 OK\"\n",
      "17:56:30 httpx INFO   HTTP Request: PUT https://bad13d43-afc8-44b5-8b37-2fa1eb4f0236.eu-west-1-0.aws.cloud.qdrant.io:6333/collections/sherlockrecipes/index?wait=true \"HTTP/1.1 200 OK\"\n",
      "17:56:31 httpx INFO   HTTP Request: PUT https://bad13d43-afc8-44b5-8b37-2fa1eb4f0236.eu-west-1-0.aws.cloud.qdrant.io:6333/collections/sherlockrecipes/index?wait=true \"HTTP/1.1 200 OK\"\n",
      "17:56:31 httpx INFO   HTTP Request: PUT https://bad13d43-afc8-44b5-8b37-2fa1eb4f0236.eu-west-1-0.aws.cloud.qdrant.io:6333/collections/sherlockrecipes/index?wait=true \"HTTP/1.1 200 OK\"\n",
      "17:56:31 httpx INFO   HTTP Request: PUT https://bad13d43-afc8-44b5-8b37-2fa1eb4f0236.eu-west-1-0.aws.cloud.qdrant.io:6333/collections/sherlockrecipes/index?wait=true \"HTTP/1.1 200 OK\"\n",
      "17:56:31 httpx INFO   HTTP Request: PUT https://bad13d43-afc8-44b5-8b37-2fa1eb4f0236.eu-west-1-0.aws.cloud.qdrant.io:6333/collections/sherlockrecipes/index?wait=true \"HTTP/1.1 200 OK\"\n",
      "17:56:31 httpx INFO   HTTP Request: PUT https://bad13d43-afc8-44b5-8b37-2fa1eb4f0236.eu-west-1-0.aws.cloud.qdrant.io:6333/collections/sherlockrecipes/index?wait=true \"HTTP/1.1 200 OK\"\n",
      "17:56:31 httpx INFO   HTTP Request: PUT https://bad13d43-afc8-44b5-8b37-2fa1eb4f0236.eu-west-1-0.aws.cloud.qdrant.io:6333/collections/sherlockrecipes/index?wait=true \"HTTP/1.1 200 OK\"\n",
      "17:56:31 httpx INFO   HTTP Request: PUT https://bad13d43-afc8-44b5-8b37-2fa1eb4f0236.eu-west-1-0.aws.cloud.qdrant.io:6333/collections/sherlockrecipes/index?wait=true \"HTTP/1.1 200 OK\"\n",
      "17:56:31 httpx INFO   HTTP Request: PUT https://bad13d43-afc8-44b5-8b37-2fa1eb4f0236.eu-west-1-0.aws.cloud.qdrant.io:6333/collections/sherlockrecipes/index?wait=true \"HTTP/1.1 200 OK\"\n",
      "17:56:31 superlinked.framework.query.query_dag_evaluator INFO   initialized query dag\n",
      "17:56:31 superlinked.framework.online.online_dag_evaluator INFO   initialized entity dag\n",
      "17:56:31 superlinked.framework.dsl.executor.interactive.interactive_executor INFO   started interactive app\n"
     ]
    }
   ],
   "source": [
    "source = sl.InteractiveSource(recipe_schema)\n",
    "executor = sl.InteractiveExecutor(\n",
    "    sources=[source],\n",
    "    indices=[index],\n",
    "    vector_database=vector_database,\n",
    ")\n",
    "app = executor.run()"
   ]
  },
  {
   "cell_type": "code",
   "execution_count": 5,
   "metadata": {},
   "outputs": [
    {
     "name": "stdout",
     "output_type": "stream",
     "text": [
      "17:56:38 httpx INFO   HTTP Request: POST https://openrouter.ai/api/v1/chat/completions \"HTTP/1.1 200 OK\"\n"
     ]
    },
    {
     "name": "stderr",
     "output_type": "stream",
     "text": [
      "Batches: 100%|██████████| 1/1 [00:00<00:00, 29.78it/s]\n",
      "Batches: 100%|██████████| 1/1 [00:00<00:00, 35.67it/s]\n",
      "Batches: 100%|██████████| 1/1 [00:00<00:00, 20.15it/s]"
     ]
    },
    {
     "name": "stdout",
     "output_type": "stream",
     "text": [
      "17:56:42 superlinked.framework.query.query_dag_evaluator INFO   evaluated query\n"
     ]
    },
    {
     "name": "stderr",
     "output_type": "stream",
     "text": [
      "\n"
     ]
    },
    {
     "name": "stdout",
     "output_type": "stream",
     "text": [
      "17:56:42 httpx INFO   HTTP Request: POST https://bad13d43-afc8-44b5-8b37-2fa1eb4f0236.eu-west-1-0.aws.cloud.qdrant.io:6333/collections/sherlockrecipes/points/query \"HTTP/1.1 200 OK\"\n",
      "17:56:42 superlinked.framework.dsl.executor.query.query_executor INFO   executed query\n",
      "{'name_query': 'quick dessert', 'similar_name_weight': 1.0, 'ingredients_query': 'chocolate', 'similar_ingredients_weight': 1.0, 'instructions_query': 'quick', 'similar_instructions_weight': 1.0, 'limit': 3, 'select_param__': ['Name', 'Ingredient_Names_Text', 'Instructions', 'Rating_Value', 'Preparation_Time', 'Cooking_Time', 'Category', 'Cuisine', 'Calories', 'Carbohydrates', 'Cholesterol', 'Fiber', 'Protein', 'Saturated_Fat', 'Sodium', 'Sugar', 'Fat', 'Unsaturated_Fat', 'Nutrition', 'Ingredients', 'URL'], 'min_rating': None, 'max_rating': None, 'min_prep_time': None, 'max_prep_time': 30.0, 'min_cook_time': None, 'max_cook_time': 30.0, 'max_calories': None, 'categories_include_all': None, 'categories_include_any': ['Dessert'], 'categories_exclude': [], 'cuisines_include_all': [], 'cuisines_include_any': ['French'], 'cuisines_exclude': [], 'natural_query': 'quick dessert with chocolate from French cuisine', 'system_prompt_param__': \"Extract search parameters from the user's natural language query about recipes.\\nGuidelines:\\n- Identify 'include' and 'exclude' attributes for ingredients, categories, and cuisines.\\n- Extract numeric preferences such as rating, preparation time, and cooking time.\\n- Consider nutrition preferences like 'low calorie', 'high protein', or dietary restrictions.\\n- If no preference is specified for a parameter, use None.\\n- Examples:\\n  1. User query: 'Quick vegan desserts with high rating' -> category: 'dessert', cuisine: None, ingredients include 'vegan', max prep time low, min rating high.\\n  2. User query: 'Gluten-free Italian main courses' -> cuisine: 'Italian', category: 'main course', exclude ingredients containing gluten.\\n  3. User query: 'Easy chicken recipes under 30 minutes' -> ingredients include 'chicken', max prep + cook time 30 mins.\\n\", 'radius_param__': None, 'name_weight': 1.0, 'ingredients_weight': 1.0, 'instructions_weight': 1.0, 'rating_weight': 0.0, 'prep_time_weight': -1.0, 'cook_time_weight': -1.0, 'space_weight_NumberSpace_9fdb_param__': 0.0, 'space_weight_NumberSpace_317f_param__': 0.0}\n"
     ]
    },
    {
     "data": {
      "text/html": [
       "<div>\n",
       "<style scoped>\n",
       "    .dataframe tbody tr th:only-of-type {\n",
       "        vertical-align: middle;\n",
       "    }\n",
       "\n",
       "    .dataframe tbody tr th {\n",
       "        vertical-align: top;\n",
       "    }\n",
       "\n",
       "    .dataframe thead th {\n",
       "        text-align: right;\n",
       "    }\n",
       "</style>\n",
       "<table border=\"1\" class=\"dataframe\">\n",
       "  <thead>\n",
       "    <tr style=\"text-align: right;\">\n",
       "      <th></th>\n",
       "      <th>Name</th>\n",
       "      <th>Ingredient_Names_Text</th>\n",
       "      <th>Instructions</th>\n",
       "      <th>Rating_Value</th>\n",
       "      <th>Preparation_Time</th>\n",
       "      <th>Cooking_Time</th>\n",
       "      <th>Category</th>\n",
       "      <th>Cuisine</th>\n",
       "      <th>Calories</th>\n",
       "      <th>Carbohydrates</th>\n",
       "      <th>...</th>\n",
       "      <th>Saturated_Fat</th>\n",
       "      <th>Sodium</th>\n",
       "      <th>Sugar</th>\n",
       "      <th>Fat</th>\n",
       "      <th>Unsaturated_Fat</th>\n",
       "      <th>Nutrition</th>\n",
       "      <th>Ingredients</th>\n",
       "      <th>URL</th>\n",
       "      <th>id</th>\n",
       "      <th>similarity_score</th>\n",
       "    </tr>\n",
       "  </thead>\n",
       "  <tbody>\n",
       "    <tr>\n",
       "      <th>0</th>\n",
       "      <td>Creamy Chocolate Mousse Pie</td>\n",
       "      <td>miniature_marshmallows milk_chocolate_candy mi...</td>\n",
       "      <td>Heat marshmallows, bar chocolate, and milk in ...</td>\n",
       "      <td>4.8</td>\n",
       "      <td>20.0</td>\n",
       "      <td>10.0</td>\n",
       "      <td>[Dessert]</td>\n",
       "      <td>[French]</td>\n",
       "      <td>399.0</td>\n",
       "      <td>29.0</td>\n",
       "      <td>...</td>\n",
       "      <td>17.0</td>\n",
       "      <td>142.0</td>\n",
       "      <td>17.0</td>\n",
       "      <td>31.0</td>\n",
       "      <td>0.0</td>\n",
       "      <td>{\"Calories\": \"399 kcal\", \"Carbohydrates\": \"29 ...</td>\n",
       "      <td>[{'ingredient': 'miniature marshmallows', 'qua...</td>\n",
       "      <td>https://www.allrecipes.com/recipe/229164/cream...</td>\n",
       "      <td>rec122</td>\n",
       "      <td>-0.123579</td>\n",
       "    </tr>\n",
       "  </tbody>\n",
       "</table>\n",
       "<p>1 rows × 23 columns</p>\n",
       "</div>"
      ],
      "text/plain": [
       "                          Name  \\\n",
       "0  Creamy Chocolate Mousse Pie   \n",
       "\n",
       "                               Ingredient_Names_Text  \\\n",
       "0  miniature_marshmallows milk_chocolate_candy mi...   \n",
       "\n",
       "                                        Instructions  Rating_Value  \\\n",
       "0  Heat marshmallows, bar chocolate, and milk in ...           4.8   \n",
       "\n",
       "   Preparation_Time  Cooking_Time   Category   Cuisine  Calories  \\\n",
       "0              20.0          10.0  [Dessert]  [French]     399.0   \n",
       "\n",
       "   Carbohydrates  ...  Saturated_Fat  Sodium  Sugar   Fat  Unsaturated_Fat  \\\n",
       "0           29.0  ...           17.0   142.0   17.0  31.0              0.0   \n",
       "\n",
       "                                           Nutrition  \\\n",
       "0  {\"Calories\": \"399 kcal\", \"Carbohydrates\": \"29 ...   \n",
       "\n",
       "                                         Ingredients  \\\n",
       "0  [{'ingredient': 'miniature marshmallows', 'qua...   \n",
       "\n",
       "                                                 URL      id similarity_score  \n",
       "0  https://www.allrecipes.com/recipe/229164/cream...  rec122        -0.123579  \n",
       "\n",
       "[1 rows x 23 columns]"
      ]
     },
     "execution_count": 5,
     "metadata": {},
     "output_type": "execute_result"
    }
   ],
   "source": [
    "params = {\n",
    "    \"natural_query\": \"quick dessert with chocolate from French cuisine\",\n",
    "    \"limit\": 3,\n",
    "}\n",
    "\n",
    "result = app.query(query, **params)\n",
    "\n",
    "# sl.PandasConverter.to_pandas(result)\n",
    "# Print search parameters and convert results to pandas DataFrame\n",
    "# Show all rows\n",
    "\n",
    "print(result.metadata.search_params)\n",
    "df = sl.PandasConverter.to_pandas(result)\n",
    "df"
   ]
  },
  {
   "cell_type": "code",
   "execution_count": 6,
   "metadata": {},
   "outputs": [
    {
     "data": {
      "text/html": [
       "<div>\n",
       "<style scoped>\n",
       "    .dataframe tbody tr th:only-of-type {\n",
       "        vertical-align: middle;\n",
       "    }\n",
       "\n",
       "    .dataframe tbody tr th {\n",
       "        vertical-align: top;\n",
       "    }\n",
       "\n",
       "    .dataframe thead th {\n",
       "        text-align: right;\n",
       "    }\n",
       "</style>\n",
       "<table border=\"1\" class=\"dataframe\">\n",
       "  <thead>\n",
       "    <tr style=\"text-align: right;\">\n",
       "      <th></th>\n",
       "      <th>id</th>\n",
       "      <th>name</th>\n",
       "      <th>ingredents</th>\n",
       "      <th>instructions</th>\n",
       "      <th>rating</th>\n",
       "      <th>prep_time</th>\n",
       "      <th>cooking_time</th>\n",
       "      <th>calories</th>\n",
       "      <th>protein</th>\n",
       "    </tr>\n",
       "  </thead>\n",
       "  <tbody>\n",
       "    <tr>\n",
       "      <th>0</th>\n",
       "      <td>rec122</td>\n",
       "      <td>0.119303</td>\n",
       "      <td>0.123086</td>\n",
       "      <td>0.032608</td>\n",
       "      <td>0.0</td>\n",
       "      <td>-0.198874</td>\n",
       "      <td>-0.199702</td>\n",
       "      <td>0.0</td>\n",
       "      <td>0.0</td>\n",
       "    </tr>\n",
       "  </tbody>\n",
       "</table>\n",
       "</div>"
      ],
      "text/plain": [
       "       id      name  ingredents  instructions  rating  prep_time  \\\n",
       "0  rec122  0.119303    0.123086      0.032608     0.0  -0.198874   \n",
       "\n",
       "   cooking_time  calories  protein  \n",
       "0     -0.199702       0.0      0.0  "
      ]
     },
     "execution_count": 6,
     "metadata": {},
     "output_type": "execute_result"
    }
   ],
   "source": [
    "rows = []\n",
    "\n",
    "space_names = [\"name\", \"ingredents\", \"instructions\", \"rating\", \"prep_time\", \"cooking_time\", \"calories\", \"protein\"]\n",
    "\n",
    "# order of spaces is the same as during index creation\n",
    "\n",
    "for entry in result.entries:\n",
    "    partial_scores = dict(zip(space_names, entry.metadata.partial_scores))\n",
    "    row = {\"id\": entry.id, **partial_scores}\n",
    "    rows.append(row)\n",
    "\n",
    "df = pd.DataFrame(rows)\n",
    "df"
   ]
  },
  {
   "cell_type": "code",
   "execution_count": 7,
   "metadata": {},
   "outputs": [
    {
     "name": "stdout",
     "output_type": "stream",
     "text": [
      "17:56:46 httpx INFO   HTTP Request: POST https://openrouter.ai/api/v1/chat/completions \"HTTP/1.1 200 OK\"\n"
     ]
    },
    {
     "name": "stderr",
     "output_type": "stream",
     "text": [
      "Batches: 100%|██████████| 1/1 [00:00<00:00, 37.13it/s]\n",
      "Batches: 100%|██████████| 1/1 [00:00<00:00, 30.41it/s]"
     ]
    },
    {
     "name": "stdout",
     "output_type": "stream",
     "text": [
      "17:56:50 superlinked.framework.query.query_dag_evaluator INFO   evaluated query\n"
     ]
    },
    {
     "name": "stderr",
     "output_type": "stream",
     "text": [
      "\n"
     ]
    },
    {
     "name": "stdout",
     "output_type": "stream",
     "text": [
      "17:56:51 httpx INFO   HTTP Request: POST https://bad13d43-afc8-44b5-8b37-2fa1eb4f0236.eu-west-1-0.aws.cloud.qdrant.io:6333/collections/sherlockrecipes/points/query \"HTTP/1.1 200 OK\"\n",
      "17:56:51 superlinked.framework.dsl.executor.query.query_executor INFO   executed query\n",
      "{'name_query': 'quick vegan dinner', 'similar_name_weight': 1.0, 'ingredients_query': 'vegan', 'similar_ingredients_weight': 1.0, 'instructions_query': 'quick', 'similar_instructions_weight': 1.0, 'limit': 3, 'select_param__': ['Name', 'Ingredient_Names_Text', 'Instructions', 'Rating_Value', 'Preparation_Time', 'Cooking_Time', 'Category', 'Cuisine', 'Calories', 'Carbohydrates', 'Cholesterol', 'Fiber', 'Protein', 'Saturated_Fat', 'Sodium', 'Sugar', 'Fat', 'Unsaturated_Fat', 'Nutrition', 'Ingredients', 'URL'], 'min_rating': None, 'max_rating': None, 'min_prep_time': None, 'max_prep_time': 30.0, 'min_cook_time': None, 'max_cook_time': 30.0, 'max_calories': 370.0, 'categories_include_all': None, 'categories_include_any': ['Dinner'], 'categories_exclude': [], 'cuisines_include_all': ['Indian'], 'cuisines_include_any': None, 'cuisines_exclude': [], 'natural_query': 'quick vegan dinner less than 370 calories from Indian cuisine', 'system_prompt_param__': \"Extract search parameters from the user's natural language query about recipes.\\nGuidelines:\\n- Identify 'include' and 'exclude' attributes for ingredients, categories, and cuisines.\\n- Extract numeric preferences such as rating, preparation time, and cooking time.\\n- Consider nutrition preferences like 'low calorie', 'high protein', or dietary restrictions.\\n- If no preference is specified for a parameter, use None.\\n- Examples:\\n  1. User query: 'Quick vegan desserts with high rating' -> category: 'dessert', cuisine: None, ingredients include 'vegan', max prep time low, min rating high.\\n  2. User query: 'Gluten-free Italian main courses' -> cuisine: 'Italian', category: 'main course', exclude ingredients containing gluten.\\n  3. User query: 'Easy chicken recipes under 30 minutes' -> ingredients include 'chicken', max prep + cook time 30 mins.\\n\", 'radius_param__': None, 'name_weight': 1.0, 'ingredients_weight': 1.0, 'instructions_weight': 1.0, 'rating_weight': 0.0, 'prep_time_weight': 1.0, 'cook_time_weight': 1.0, 'space_weight_NumberSpace_9fdb_param__': 1.0, 'space_weight_NumberSpace_317f_param__': 0.0}\n"
     ]
    },
    {
     "data": {
      "text/html": [
       "<div>\n",
       "<style scoped>\n",
       "    .dataframe tbody tr th:only-of-type {\n",
       "        vertical-align: middle;\n",
       "    }\n",
       "\n",
       "    .dataframe tbody tr th {\n",
       "        vertical-align: top;\n",
       "    }\n",
       "\n",
       "    .dataframe thead th {\n",
       "        text-align: right;\n",
       "    }\n",
       "</style>\n",
       "<table border=\"1\" class=\"dataframe\">\n",
       "  <thead>\n",
       "    <tr style=\"text-align: right;\">\n",
       "      <th></th>\n",
       "    </tr>\n",
       "  </thead>\n",
       "  <tbody>\n",
       "  </tbody>\n",
       "</table>\n",
       "</div>"
      ],
      "text/plain": [
       "Empty DataFrame\n",
       "Columns: []\n",
       "Index: []"
      ]
     },
     "execution_count": 7,
     "metadata": {},
     "output_type": "execute_result"
    }
   ],
   "source": [
    "params = {\n",
    "    \"natural_query\": \"quick vegan dinner less than 370 calories from Indian cuisine\",\n",
    "    \"limit\": 3,\n",
    "}\n",
    "\n",
    "result = app.query(query, **params)\n",
    "\n",
    "# sl.PandasConverter.to_pandas(result)\n",
    "# Print search parameters and convert results to pandas DataFrame\n",
    "# Show all rows\n",
    "\n",
    "print(result.metadata.search_params)\n",
    "df = sl.PandasConverter.to_pandas(result)\n",
    "df"
   ]
  },
  {
   "cell_type": "code",
   "execution_count": 8,
   "metadata": {},
   "outputs": [
    {
     "data": {
      "text/html": [
       "<div>\n",
       "<style scoped>\n",
       "    .dataframe tbody tr th:only-of-type {\n",
       "        vertical-align: middle;\n",
       "    }\n",
       "\n",
       "    .dataframe tbody tr th {\n",
       "        vertical-align: top;\n",
       "    }\n",
       "\n",
       "    .dataframe thead th {\n",
       "        text-align: right;\n",
       "    }\n",
       "</style>\n",
       "<table border=\"1\" class=\"dataframe\">\n",
       "  <thead>\n",
       "    <tr style=\"text-align: right;\">\n",
       "      <th></th>\n",
       "    </tr>\n",
       "  </thead>\n",
       "  <tbody>\n",
       "  </tbody>\n",
       "</table>\n",
       "</div>"
      ],
      "text/plain": [
       "Empty DataFrame\n",
       "Columns: []\n",
       "Index: []"
      ]
     },
     "execution_count": 8,
     "metadata": {},
     "output_type": "execute_result"
    }
   ],
   "source": [
    "rows = []\n",
    "\n",
    "space_names = [\"name\", \"ingredents\", \"instructions\", \"rating\", \"prep_time\", \"cooking_time\", \"calories\", \"protein\"]\n",
    "\n",
    "# order of spaces is the same as during index creation\n",
    "\n",
    "for entry in result.entries:\n",
    "    partial_scores = dict(zip(space_names, entry.metadata.partial_scores))\n",
    "    row = {\"id\": entry.id, **partial_scores}\n",
    "    rows.append(row)\n",
    "\n",
    "df = pd.DataFrame(rows)\n",
    "df"
   ]
  },
  {
   "cell_type": "code",
   "execution_count": null,
   "metadata": {},
   "outputs": [],
   "source": [
    "params = {\n",
    "    \"natural_query\": \"quick dinner with onion less than 3070 calories and cooking time less than 40 minutes\",\n",
    "    \"limit\": 3,\n",
    "}\n",
    "\n",
    "result = app.query(query, **params)\n",
    "\n",
    "# sl.PandasConverter.to_pandas(result)\n",
    "# Print search parameters and convert results to pandas DataFrame\n",
    "# Show all rows\n",
    "\n",
    "print(result.metadata.search_params)\n",
    "df = sl.PandasConverter.to_pandas(result)\n",
    "df"
   ]
  },
  {
   "cell_type": "code",
   "execution_count": null,
   "metadata": {},
   "outputs": [],
   "source": [
    "rows = []\n",
    "\n",
    "space_names = [\"name\", \"ingredents\", \"instructions\", \"rating\", \"prep_time\", \"cooking_time\", \"calories\", \"protein\"]\n",
    "\n",
    "# order of spaces is the same as during index creation\n",
    "\n",
    "for entry in result.entries:\n",
    "    partial_scores = dict(zip(space_names, entry.metadata.partial_scores))\n",
    "    row = {\"id\": entry.id, **partial_scores}\n",
    "    rows.append(row)\n",
    "\n",
    "df = pd.DataFrame(rows)\n",
    "df"
   ]
  },
  {
   "cell_type": "markdown",
   "metadata": {},
   "source": [
    "### The following examples are with manual parameters"
   ]
  },
  {
   "cell_type": "code",
   "execution_count": 12,
   "metadata": {},
   "outputs": [
    {
     "name": "stderr",
     "output_type": "stream",
     "text": [
      "Batches: 100%|██████████| 1/1 [00:00<00:00, 39.56it/s]\n",
      "Batches: 100%|██████████| 1/1 [00:00<00:00, 33.09it/s]"
     ]
    },
    {
     "name": "stdout",
     "output_type": "stream",
     "text": [
      "18:00:07 superlinked.framework.query.query_dag_evaluator INFO   evaluated query\n"
     ]
    },
    {
     "name": "stderr",
     "output_type": "stream",
     "text": [
      "\n"
     ]
    },
    {
     "name": "stdout",
     "output_type": "stream",
     "text": [
      "18:00:07 httpx INFO   HTTP Request: POST https://bad13d43-afc8-44b5-8b37-2fa1eb4f0236.eu-west-1-0.aws.cloud.qdrant.io:6333/collections/sherlockrecipes/points/query \"HTTP/1.1 200 OK\"\n",
      "18:00:07 superlinked.framework.dsl.executor.query.query_executor INFO   executed query\n",
      "{'name_query': '', 'similar_name_weight': 1.0, 'ingredients_query': 'cream', 'similar_ingredients_weight': 1.0, 'instructions_query': '', 'similar_instructions_weight': 0.0, 'limit': 5, 'select_param__': ['Name', 'Ingredient_Names_Text', 'Instructions', 'Rating_Value', 'Preparation_Time', 'Cooking_Time', 'Category', 'Cuisine', 'Calories', 'Carbohydrates', 'Cholesterol', 'Fiber', 'Protein', 'Saturated_Fat', 'Sodium', 'Sugar', 'Fat', 'Unsaturated_Fat', 'Nutrition', 'Ingredients', 'URL'], 'min_rating': 0.0, 'max_rating': None, 'min_prep_time': 0.0, 'max_prep_time': 40.0, 'min_cook_time': 0.0, 'max_cook_time': 40.0, 'max_calories': None, 'categories_include_all': None, 'categories_include_any': ['Dessert'], 'categories_exclude': None, 'cuisines_include_all': None, 'cuisines_include_any': ['French'], 'cuisines_exclude': None, 'natural_query': None, 'system_prompt_param__': \"Extract search parameters from the user's natural language query about recipes.\\nGuidelines:\\n- Identify 'include' and 'exclude' attributes for ingredients, categories, and cuisines.\\n- Extract numeric preferences such as rating, preparation time, and cooking time.\\n- Consider nutrition preferences like 'low calorie', 'high protein', or dietary restrictions.\\n- If no preference is specified for a parameter, use None.\\n- Examples:\\n  1. User query: 'Quick vegan desserts with high rating' -> category: 'dessert', cuisine: None, ingredients include 'vegan', max prep time low, min rating high.\\n  2. User query: 'Gluten-free Italian main courses' -> cuisine: 'Italian', category: 'main course', exclude ingredients containing gluten.\\n  3. User query: 'Easy chicken recipes under 30 minutes' -> ingredients include 'chicken', max prep + cook time 30 mins.\\n\", 'radius_param__': None, 'name_weight': 1.0, 'ingredients_weight': 1.0, 'instructions_weight': 0.0, 'rating_weight': None, 'prep_time_weight': None, 'cook_time_weight': None, 'space_weight_NumberSpace_9fdb_param__': None, 'space_weight_NumberSpace_317f_param__': None}\n"
     ]
    },
    {
     "data": {
      "text/html": [
       "<div>\n",
       "<style scoped>\n",
       "    .dataframe tbody tr th:only-of-type {\n",
       "        vertical-align: middle;\n",
       "    }\n",
       "\n",
       "    .dataframe tbody tr th {\n",
       "        vertical-align: top;\n",
       "    }\n",
       "\n",
       "    .dataframe thead th {\n",
       "        text-align: right;\n",
       "    }\n",
       "</style>\n",
       "<table border=\"1\" class=\"dataframe\">\n",
       "  <thead>\n",
       "    <tr style=\"text-align: right;\">\n",
       "      <th></th>\n",
       "      <th>Name</th>\n",
       "      <th>Ingredient_Names_Text</th>\n",
       "      <th>Instructions</th>\n",
       "      <th>Rating_Value</th>\n",
       "      <th>Preparation_Time</th>\n",
       "      <th>Cooking_Time</th>\n",
       "      <th>Category</th>\n",
       "      <th>Cuisine</th>\n",
       "      <th>Calories</th>\n",
       "      <th>Carbohydrates</th>\n",
       "      <th>...</th>\n",
       "      <th>Saturated_Fat</th>\n",
       "      <th>Sodium</th>\n",
       "      <th>Sugar</th>\n",
       "      <th>Fat</th>\n",
       "      <th>Unsaturated_Fat</th>\n",
       "      <th>Nutrition</th>\n",
       "      <th>Ingredients</th>\n",
       "      <th>URL</th>\n",
       "      <th>id</th>\n",
       "      <th>similarity_score</th>\n",
       "    </tr>\n",
       "  </thead>\n",
       "  <tbody>\n",
       "    <tr>\n",
       "      <th>0</th>\n",
       "      <td>Creamy Chocolate Mousse Pie</td>\n",
       "      <td>miniature_marshmallows milk_chocolate_candy mi...</td>\n",
       "      <td>Heat marshmallows, bar chocolate, and milk in ...</td>\n",
       "      <td>4.8</td>\n",
       "      <td>20.0</td>\n",
       "      <td>10.0</td>\n",
       "      <td>[Dessert]</td>\n",
       "      <td>[French]</td>\n",
       "      <td>399.0</td>\n",
       "      <td>29.0</td>\n",
       "      <td>...</td>\n",
       "      <td>17.0</td>\n",
       "      <td>142.0</td>\n",
       "      <td>17.0</td>\n",
       "      <td>31.0</td>\n",
       "      <td>0.0</td>\n",
       "      <td>{\"Calories\": \"399 kcal\", \"Carbohydrates\": \"29 ...</td>\n",
       "      <td>[{'ingredient': 'miniature marshmallows', 'qua...</td>\n",
       "      <td>https://www.allrecipes.com/recipe/229164/cream...</td>\n",
       "      <td>rec122</td>\n",
       "      <td>0.355058</td>\n",
       "    </tr>\n",
       "  </tbody>\n",
       "</table>\n",
       "<p>1 rows × 23 columns</p>\n",
       "</div>"
      ],
      "text/plain": [
       "                          Name  \\\n",
       "0  Creamy Chocolate Mousse Pie   \n",
       "\n",
       "                               Ingredient_Names_Text  \\\n",
       "0  miniature_marshmallows milk_chocolate_candy mi...   \n",
       "\n",
       "                                        Instructions  Rating_Value  \\\n",
       "0  Heat marshmallows, bar chocolate, and milk in ...           4.8   \n",
       "\n",
       "   Preparation_Time  Cooking_Time   Category   Cuisine  Calories  \\\n",
       "0              20.0          10.0  [Dessert]  [French]     399.0   \n",
       "\n",
       "   Carbohydrates  ...  Saturated_Fat  Sodium  Sugar   Fat  Unsaturated_Fat  \\\n",
       "0           29.0  ...           17.0   142.0   17.0  31.0              0.0   \n",
       "\n",
       "                                           Nutrition  \\\n",
       "0  {\"Calories\": \"399 kcal\", \"Carbohydrates\": \"29 ...   \n",
       "\n",
       "                                         Ingredients  \\\n",
       "0  [{'ingredient': 'miniature marshmallows', 'qua...   \n",
       "\n",
       "                                                 URL      id similarity_score  \n",
       "0  https://www.allrecipes.com/recipe/229164/cream...  rec122         0.355058  \n",
       "\n",
       "[1 rows x 23 columns]"
      ]
     },
     "execution_count": 12,
     "metadata": {},
     "output_type": "execute_result"
    }
   ],
   "source": [
    "# Example manual query parameters \n",
    "params = {\n",
    "    \"name_query\": \"\",              # Text to search in recipe names\n",
    "    \"ingredients_query\": \"cream\", # Text to search in ingredients\n",
    "    \"instructions_query\": \"\",      # Text to search in instructions\n",
    "    \"limit\": 5,                                  # Number of results to return\n",
    "\n",
    "    # Weights for similarity spaces (adjust as needed)\n",
    "    \"name_weight\": 1.0,\n",
    "    \"ingredients_weight\": 1.0,\n",
    "    \"instructions_weight\": 0.0,\n",
    "\n",
    "    # Similarity weights (can be same as above or different)\n",
    "    \"similar_name_weight\": 1.0,\n",
    "    \"similar_ingredients_weight\": 1.0,\n",
    "    \"similar_instructions_weight\": 0.0,\n",
    "\n",
    "    # Numerical filters (set to None or appropriate values)\n",
    "    \"min_rating\": 0.0,\n",
    "    #\"max_rating\": 15.0,\n",
    "    \"min_prep_time\": 0.0,\n",
    "    \"max_prep_time\": 40.0,\n",
    "    \"min_cook_time\": 0.0,\n",
    "    \"max_cook_time\": 40.0,\n",
    "    #\"max_calories\": 400.0,\n",
    "\n",
    "    # Categorical filters (empty list or specify categories/cuisines)\n",
    "    # Remove or set to None to disable categories filtering\n",
    "    \"categories_include_any\": [\"Dessert\"],\n",
    "    #\"categories_exclude\": [],\n",
    "    # Remove or set to None to disable cuisine filtering\n",
    "    \"cuisines_include_any\": [\"French\"],\n",
    "    # \"cuisines_exclude\": [],\n",
    "}\n",
    "\n",
    "# Run the query with manual parameters\n",
    "result = app.query(query, **params)\n",
    "\n",
    "# Print search parameters and convert results to pandas DataFrame\n",
    "# Show all rows\n",
    "\n",
    "print(result.metadata.search_params)\n",
    "df = sl.PandasConverter.to_pandas(result)\n",
    "df\n"
   ]
  },
  {
   "cell_type": "code",
   "execution_count": 13,
   "metadata": {},
   "outputs": [
    {
     "data": {
      "text/html": [
       "<div>\n",
       "<style scoped>\n",
       "    .dataframe tbody tr th:only-of-type {\n",
       "        vertical-align: middle;\n",
       "    }\n",
       "\n",
       "    .dataframe tbody tr th {\n",
       "        vertical-align: top;\n",
       "    }\n",
       "\n",
       "    .dataframe thead th {\n",
       "        text-align: right;\n",
       "    }\n",
       "</style>\n",
       "<table border=\"1\" class=\"dataframe\">\n",
       "  <thead>\n",
       "    <tr style=\"text-align: right;\">\n",
       "      <th></th>\n",
       "      <th>id</th>\n",
       "      <th>name</th>\n",
       "      <th>ingredents</th>\n",
       "      <th>instructions</th>\n",
       "      <th>rating</th>\n",
       "      <th>prep_time</th>\n",
       "      <th>cooking_time</th>\n",
       "      <th>calories</th>\n",
       "      <th>protein</th>\n",
       "    </tr>\n",
       "  </thead>\n",
       "  <tbody>\n",
       "    <tr>\n",
       "      <th>0</th>\n",
       "      <td>rec122</td>\n",
       "      <td>0.051456</td>\n",
       "      <td>0.303602</td>\n",
       "      <td>0.0</td>\n",
       "      <td>0.0</td>\n",
       "      <td>0.0</td>\n",
       "      <td>0.0</td>\n",
       "      <td>0.0</td>\n",
       "      <td>0.0</td>\n",
       "    </tr>\n",
       "  </tbody>\n",
       "</table>\n",
       "</div>"
      ],
      "text/plain": [
       "       id      name  ingredents  instructions  rating  prep_time  \\\n",
       "0  rec122  0.051456    0.303602           0.0     0.0        0.0   \n",
       "\n",
       "   cooking_time  calories  protein  \n",
       "0           0.0       0.0      0.0  "
      ]
     },
     "execution_count": 13,
     "metadata": {},
     "output_type": "execute_result"
    }
   ],
   "source": [
    "rows = []\n",
    "\n",
    "space_names = [\"name\", \"ingredents\", \"instructions\", \"rating\", \"prep_time\", \"cooking_time\", \"calories\", \"protein\"]\n",
    "\n",
    "# order of spaces is the same as during index creation\n",
    "\n",
    "for entry in result.entries:\n",
    "    partial_scores = dict(zip(space_names, entry.metadata.partial_scores))\n",
    "    row = {\"id\": entry.id, **partial_scores}\n",
    "    rows.append(row)\n",
    "\n",
    "df = pd.DataFrame(rows)\n",
    "df"
   ]
  },
  {
   "cell_type": "code",
   "execution_count": 14,
   "metadata": {},
   "outputs": [
    {
     "name": "stderr",
     "output_type": "stream",
     "text": [
      "Batches: 100%|██████████| 1/1 [00:00<00:00,  5.21it/s]\n",
      "Batches: 100%|██████████| 1/1 [00:00<00:00, 27.52it/s]\n",
      "Batches: 100%|██████████| 1/1 [00:00<00:00, 13.64it/s]"
     ]
    },
    {
     "name": "stdout",
     "output_type": "stream",
     "text": [
      "18:00:21 superlinked.framework.query.query_dag_evaluator INFO   evaluated query\n"
     ]
    },
    {
     "name": "stderr",
     "output_type": "stream",
     "text": [
      "\n"
     ]
    },
    {
     "name": "stdout",
     "output_type": "stream",
     "text": [
      "18:00:21 httpx INFO   HTTP Request: POST https://bad13d43-afc8-44b5-8b37-2fa1eb4f0236.eu-west-1-0.aws.cloud.qdrant.io:6333/collections/sherlockrecipes/points/query \"HTTP/1.1 200 OK\"\n",
      "18:00:21 superlinked.framework.dsl.executor.query.query_executor INFO   executed query\n",
      "{'name_query': 'Pizza', 'similar_name_weight': 1.0, 'ingredients_query': 'greek_yogurt', 'similar_ingredients_weight': 1.0, 'instructions_query': 'Preheat', 'similar_instructions_weight': 1.0, 'limit': 5, 'select_param__': ['Name', 'Ingredient_Names_Text', 'Instructions', 'Rating_Value', 'Preparation_Time', 'Cooking_Time', 'Category', 'Cuisine', 'Calories', 'Carbohydrates', 'Cholesterol', 'Fiber', 'Protein', 'Saturated_Fat', 'Sodium', 'Sugar', 'Fat', 'Unsaturated_Fat', 'Nutrition', 'Ingredients', 'URL'], 'min_rating': 4.0, 'max_rating': None, 'min_prep_time': 0.0, 'max_prep_time': 9000.0, 'min_cook_time': 0.0, 'max_cook_time': 1000.0, 'max_calories': 400.0, 'categories_include_all': None, 'categories_include_any': None, 'categories_exclude': None, 'cuisines_include_all': None, 'cuisines_include_any': ['Italian'], 'cuisines_exclude': None, 'natural_query': None, 'system_prompt_param__': \"Extract search parameters from the user's natural language query about recipes.\\nGuidelines:\\n- Identify 'include' and 'exclude' attributes for ingredients, categories, and cuisines.\\n- Extract numeric preferences such as rating, preparation time, and cooking time.\\n- Consider nutrition preferences like 'low calorie', 'high protein', or dietary restrictions.\\n- If no preference is specified for a parameter, use None.\\n- Examples:\\n  1. User query: 'Quick vegan desserts with high rating' -> category: 'dessert', cuisine: None, ingredients include 'vegan', max prep time low, min rating high.\\n  2. User query: 'Gluten-free Italian main courses' -> cuisine: 'Italian', category: 'main course', exclude ingredients containing gluten.\\n  3. User query: 'Easy chicken recipes under 30 minutes' -> ingredients include 'chicken', max prep + cook time 30 mins.\\n\", 'radius_param__': None, 'name_weight': 1.0, 'ingredients_weight': 1.0, 'instructions_weight': 1.0, 'rating_weight': None, 'prep_time_weight': None, 'cook_time_weight': None, 'space_weight_NumberSpace_9fdb_param__': None, 'space_weight_NumberSpace_317f_param__': None}\n"
     ]
    },
    {
     "data": {
      "text/html": [
       "<div>\n",
       "<style scoped>\n",
       "    .dataframe tbody tr th:only-of-type {\n",
       "        vertical-align: middle;\n",
       "    }\n",
       "\n",
       "    .dataframe tbody tr th {\n",
       "        vertical-align: top;\n",
       "    }\n",
       "\n",
       "    .dataframe thead th {\n",
       "        text-align: right;\n",
       "    }\n",
       "</style>\n",
       "<table border=\"1\" class=\"dataframe\">\n",
       "  <thead>\n",
       "    <tr style=\"text-align: right;\">\n",
       "      <th></th>\n",
       "      <th>Name</th>\n",
       "      <th>Ingredient_Names_Text</th>\n",
       "      <th>Instructions</th>\n",
       "      <th>Rating_Value</th>\n",
       "      <th>Preparation_Time</th>\n",
       "      <th>Cooking_Time</th>\n",
       "      <th>Category</th>\n",
       "      <th>Cuisine</th>\n",
       "      <th>Calories</th>\n",
       "      <th>Carbohydrates</th>\n",
       "      <th>...</th>\n",
       "      <th>Saturated_Fat</th>\n",
       "      <th>Sodium</th>\n",
       "      <th>Sugar</th>\n",
       "      <th>Fat</th>\n",
       "      <th>Unsaturated_Fat</th>\n",
       "      <th>Nutrition</th>\n",
       "      <th>Ingredients</th>\n",
       "      <th>URL</th>\n",
       "      <th>id</th>\n",
       "      <th>similarity_score</th>\n",
       "    </tr>\n",
       "  </thead>\n",
       "  <tbody>\n",
       "    <tr>\n",
       "      <th>0</th>\n",
       "      <td>Two-Ingredient Pizza Dough</td>\n",
       "      <td>self-rising_flour greek_yogurt spray</td>\n",
       "      <td>Gather all ingredients. Preheat the oven to 50...</td>\n",
       "      <td>4.6</td>\n",
       "      <td>15.0</td>\n",
       "      <td>10.0</td>\n",
       "      <td>[Dinner]</td>\n",
       "      <td>[Italian]</td>\n",
       "      <td>116.0</td>\n",
       "      <td>18.0</td>\n",
       "      <td>...</td>\n",
       "      <td>1.0</td>\n",
       "      <td>314.0</td>\n",
       "      <td>1.0</td>\n",
       "      <td>3.0</td>\n",
       "      <td>0.0</td>\n",
       "      <td>{\"Calories\": \"116 kcal\", \"Carbohydrates\": \"18 ...</td>\n",
       "      <td>[{'ingredient': 'self-rising flour', 'quantity...</td>\n",
       "      <td>https://www.allrecipes.com/recipe/244447/two-i...</td>\n",
       "      <td>rec136</td>\n",
       "      <td>0.551015</td>\n",
       "    </tr>\n",
       "  </tbody>\n",
       "</table>\n",
       "<p>1 rows × 23 columns</p>\n",
       "</div>"
      ],
      "text/plain": [
       "                         Name                 Ingredient_Names_Text  \\\n",
       "0  Two-Ingredient Pizza Dough  self-rising_flour greek_yogurt spray   \n",
       "\n",
       "                                        Instructions  Rating_Value  \\\n",
       "0  Gather all ingredients. Preheat the oven to 50...           4.6   \n",
       "\n",
       "   Preparation_Time  Cooking_Time  Category    Cuisine  Calories  \\\n",
       "0              15.0          10.0  [Dinner]  [Italian]     116.0   \n",
       "\n",
       "   Carbohydrates  ...  Saturated_Fat  Sodium  Sugar  Fat  Unsaturated_Fat  \\\n",
       "0           18.0  ...            1.0   314.0    1.0  3.0              0.0   \n",
       "\n",
       "                                           Nutrition  \\\n",
       "0  {\"Calories\": \"116 kcal\", \"Carbohydrates\": \"18 ...   \n",
       "\n",
       "                                         Ingredients  \\\n",
       "0  [{'ingredient': 'self-rising flour', 'quantity...   \n",
       "\n",
       "                                                 URL      id similarity_score  \n",
       "0  https://www.allrecipes.com/recipe/244447/two-i...  rec136         0.551015  \n",
       "\n",
       "[1 rows x 23 columns]"
      ]
     },
     "execution_count": 14,
     "metadata": {},
     "output_type": "execute_result"
    }
   ],
   "source": [
    "# Example manual query parameters\n",
    "params = {\n",
    "    \"name_query\": \"Pizza\",              # Text to search in recipe names\n",
    "    \"ingredients_query\": \"greek_yogurt\", # Text to search in ingredients\n",
    "    \"instructions_query\": \"Preheat\",      # Text to search in instructions\n",
    "    \"limit\": 5,                                  # Number of results to return\n",
    "\n",
    "    # Weights for similarity spaces (adjust as needed)\n",
    "    \"name_weight\": 1.0,\n",
    "    \"ingredients_weight\": 1.0,\n",
    "    \"instructions_weight\": 1.0,\n",
    "\n",
    "    # Similarity weights (can be same as above or different)\n",
    "    \"similar_name_weight\": 1.0,\n",
    "    \"similar_ingredients_weight\": 1.0,\n",
    "    \"similar_instructions_weight\": 1.0,\n",
    "\n",
    "    # Numerical filters (set to None or appropriate values)\n",
    "    \"min_rating\": 4.0,\n",
    "    #\"max_rating\": 15.0,\n",
    "    \"min_prep_time\": 0.0,\n",
    "    \"max_prep_time\": 9000.0,\n",
    "    \"min_cook_time\": 0.0,\n",
    "    \"max_cook_time\": 1000.0,\n",
    "    \"max_calories\": 400.0,\n",
    "\n",
    "    # Categorical filters (empty list or specify categories/cuisines)\n",
    "    # Remove or set to None to disable categories filtering\n",
    "    #\"categories_include_any\": [\"Dinner\"],\n",
    "    #\"categories_exclude\": [],\n",
    "    # Remove or set to None to disable cuisine filtering\n",
    "    \"cuisines_include_any\": [\"Italian\"],\n",
    "    # \"cuisines_exclude\": [],\n",
    "}\n",
    "\n",
    "# Run the query with manual parameters\n",
    "result = app.query(query, **params)\n",
    "\n",
    "# Print search parameters and convert results to pandas DataFrame\n",
    "# Show all rows\n",
    "\n",
    "print(result.metadata.search_params)\n",
    "df = sl.PandasConverter.to_pandas(result)\n",
    "df\n"
   ]
  },
  {
   "cell_type": "code",
   "execution_count": 15,
   "metadata": {},
   "outputs": [
    {
     "data": {
      "text/html": [
       "<div>\n",
       "<style scoped>\n",
       "    .dataframe tbody tr th:only-of-type {\n",
       "        vertical-align: middle;\n",
       "    }\n",
       "\n",
       "    .dataframe tbody tr th {\n",
       "        vertical-align: top;\n",
       "    }\n",
       "\n",
       "    .dataframe thead th {\n",
       "        text-align: right;\n",
       "    }\n",
       "</style>\n",
       "<table border=\"1\" class=\"dataframe\">\n",
       "  <thead>\n",
       "    <tr style=\"text-align: right;\">\n",
       "      <th></th>\n",
       "      <th>id</th>\n",
       "      <th>name</th>\n",
       "      <th>ingredents</th>\n",
       "      <th>instructions</th>\n",
       "      <th>rating</th>\n",
       "      <th>prep_time</th>\n",
       "      <th>cooking_time</th>\n",
       "      <th>calories</th>\n",
       "      <th>protein</th>\n",
       "    </tr>\n",
       "  </thead>\n",
       "  <tbody>\n",
       "    <tr>\n",
       "      <th>0</th>\n",
       "      <td>rec136</td>\n",
       "      <td>0.22264</td>\n",
       "      <td>0.209723</td>\n",
       "      <td>0.118651</td>\n",
       "      <td>0.0</td>\n",
       "      <td>0.0</td>\n",
       "      <td>0.0</td>\n",
       "      <td>0.0</td>\n",
       "      <td>0.0</td>\n",
       "    </tr>\n",
       "  </tbody>\n",
       "</table>\n",
       "</div>"
      ],
      "text/plain": [
       "       id     name  ingredents  instructions  rating  prep_time  cooking_time  \\\n",
       "0  rec136  0.22264    0.209723      0.118651     0.0        0.0           0.0   \n",
       "\n",
       "   calories  protein  \n",
       "0       0.0      0.0  "
      ]
     },
     "execution_count": 15,
     "metadata": {},
     "output_type": "execute_result"
    }
   ],
   "source": [
    "rows = []\n",
    "\n",
    "space_names = [\"name\", \"ingredents\", \"instructions\", \"rating\", \"prep_time\", \"cooking_time\", \"calories\", \"protein\"]\n",
    "\n",
    "# order of spaces is the same as during index creation\n",
    "\n",
    "for entry in result.entries:\n",
    "    partial_scores = dict(zip(space_names, entry.metadata.partial_scores))\n",
    "    row = {\"id\": entry.id, **partial_scores}\n",
    "    rows.append(row)\n",
    "\n",
    "df = pd.DataFrame(rows)\n",
    "df"
   ]
  },
  {
   "cell_type": "code",
   "execution_count": 16,
   "metadata": {},
   "outputs": [
    {
     "name": "stderr",
     "output_type": "stream",
     "text": [
      "Batches: 100%|██████████| 1/1 [00:00<00:00, 55.63it/s]\n",
      "Batches: 100%|██████████| 1/1 [00:00<00:00, 75.45it/s]"
     ]
    },
    {
     "name": "stdout",
     "output_type": "stream",
     "text": [
      "18:00:21 superlinked.framework.query.query_dag_evaluator INFO   evaluated query\n",
      "18:00:21 httpx INFO   HTTP Request: POST https://bad13d43-afc8-44b5-8b37-2fa1eb4f0236.eu-west-1-0.aws.cloud.qdrant.io:6333/collections/sherlockrecipes/points/query \"HTTP/1.1 200 OK\"\n",
      "18:00:21 superlinked.framework.dsl.executor.query.query_executor INFO   executed query\n"
     ]
    },
    {
     "name": "stderr",
     "output_type": "stream",
     "text": [
      "\n"
     ]
    },
    {
     "name": "stdout",
     "output_type": "stream",
     "text": [
      "{'name_query': 'pasta', 'similar_name_weight': 1.0, 'ingredients_query': 'pasta', 'similar_ingredients_weight': 1.0, 'instructions_query': '', 'similar_instructions_weight': 0.0, 'limit': 5, 'select_param__': ['Name', 'Ingredient_Names_Text', 'Instructions', 'Rating_Value', 'Preparation_Time', 'Cooking_Time', 'Category', 'Cuisine', 'Calories', 'Carbohydrates', 'Cholesterol', 'Fiber', 'Protein', 'Saturated_Fat', 'Sodium', 'Sugar', 'Fat', 'Unsaturated_Fat', 'Nutrition', 'Ingredients', 'URL'], 'min_rating': 0.0, 'max_rating': None, 'min_prep_time': 0.0, 'max_prep_time': 40.0, 'min_cook_time': 0.0, 'max_cook_time': 40.0, 'max_calories': 500.0, 'categories_include_all': None, 'categories_include_any': ['Lunch', 'Dinner'], 'categories_exclude': None, 'cuisines_include_all': None, 'cuisines_include_any': ['Italian'], 'cuisines_exclude': None, 'natural_query': None, 'system_prompt_param__': \"Extract search parameters from the user's natural language query about recipes.\\nGuidelines:\\n- Identify 'include' and 'exclude' attributes for ingredients, categories, and cuisines.\\n- Extract numeric preferences such as rating, preparation time, and cooking time.\\n- Consider nutrition preferences like 'low calorie', 'high protein', or dietary restrictions.\\n- If no preference is specified for a parameter, use None.\\n- Examples:\\n  1. User query: 'Quick vegan desserts with high rating' -> category: 'dessert', cuisine: None, ingredients include 'vegan', max prep time low, min rating high.\\n  2. User query: 'Gluten-free Italian main courses' -> cuisine: 'Italian', category: 'main course', exclude ingredients containing gluten.\\n  3. User query: 'Easy chicken recipes under 30 minutes' -> ingredients include 'chicken', max prep + cook time 30 mins.\\n\", 'radius_param__': None, 'name_weight': 1.0, 'ingredients_weight': 1.0, 'instructions_weight': 0.0, 'rating_weight': None, 'prep_time_weight': None, 'cook_time_weight': None, 'space_weight_NumberSpace_9fdb_param__': None, 'space_weight_NumberSpace_317f_param__': None}\n"
     ]
    },
    {
     "data": {
      "text/html": [
       "<div>\n",
       "<style scoped>\n",
       "    .dataframe tbody tr th:only-of-type {\n",
       "        vertical-align: middle;\n",
       "    }\n",
       "\n",
       "    .dataframe tbody tr th {\n",
       "        vertical-align: top;\n",
       "    }\n",
       "\n",
       "    .dataframe thead th {\n",
       "        text-align: right;\n",
       "    }\n",
       "</style>\n",
       "<table border=\"1\" class=\"dataframe\">\n",
       "  <thead>\n",
       "    <tr style=\"text-align: right;\">\n",
       "      <th></th>\n",
       "      <th>Name</th>\n",
       "      <th>Ingredient_Names_Text</th>\n",
       "      <th>Instructions</th>\n",
       "      <th>Rating_Value</th>\n",
       "      <th>Preparation_Time</th>\n",
       "      <th>Cooking_Time</th>\n",
       "      <th>Category</th>\n",
       "      <th>Cuisine</th>\n",
       "      <th>Calories</th>\n",
       "      <th>Carbohydrates</th>\n",
       "      <th>...</th>\n",
       "      <th>Saturated_Fat</th>\n",
       "      <th>Sodium</th>\n",
       "      <th>Sugar</th>\n",
       "      <th>Fat</th>\n",
       "      <th>Unsaturated_Fat</th>\n",
       "      <th>Nutrition</th>\n",
       "      <th>Ingredients</th>\n",
       "      <th>URL</th>\n",
       "      <th>id</th>\n",
       "      <th>similarity_score</th>\n",
       "    </tr>\n",
       "  </thead>\n",
       "  <tbody>\n",
       "    <tr>\n",
       "      <th>0</th>\n",
       "      <td>Two-Ingredient Pizza Dough</td>\n",
       "      <td>self-rising_flour greek_yogurt spray</td>\n",
       "      <td>Gather all ingredients. Preheat the oven to 50...</td>\n",
       "      <td>4.6</td>\n",
       "      <td>15.0</td>\n",
       "      <td>10.0</td>\n",
       "      <td>[Dinner]</td>\n",
       "      <td>[Italian]</td>\n",
       "      <td>116.0</td>\n",
       "      <td>18.0</td>\n",
       "      <td>...</td>\n",
       "      <td>1.0</td>\n",
       "      <td>314.0</td>\n",
       "      <td>1.0</td>\n",
       "      <td>3.0</td>\n",
       "      <td>0.0</td>\n",
       "      <td>{\"Calories\": \"116 kcal\", \"Carbohydrates\": \"18 ...</td>\n",
       "      <td>[{'ingredient': 'self-rising flour', 'quantity...</td>\n",
       "      <td>https://www.allrecipes.com/recipe/244447/two-i...</td>\n",
       "      <td>rec136</td>\n",
       "      <td>0.309097</td>\n",
       "    </tr>\n",
       "    <tr>\n",
       "      <th>1</th>\n",
       "      <td>Trofie alla Genovese</td>\n",
       "      <td>pine_nuts basil parmesan_cheese extra-virgin_o...</td>\n",
       "      <td>Start by making the pesto: Heat a dry pan over...</td>\n",
       "      <td>0.0</td>\n",
       "      <td>20.0</td>\n",
       "      <td>40.0</td>\n",
       "      <td>[Dinner]</td>\n",
       "      <td>[Italian]</td>\n",
       "      <td>470.0</td>\n",
       "      <td>26.0</td>\n",
       "      <td>...</td>\n",
       "      <td>7.0</td>\n",
       "      <td>437.0</td>\n",
       "      <td>2.0</td>\n",
       "      <td>38.0</td>\n",
       "      <td>0.0</td>\n",
       "      <td>{\"Calories\": \"470 kcal\", \"Carbohydrates\": \"26 ...</td>\n",
       "      <td>[{'ingredient': 'pine nuts', 'quantity': '0.33...</td>\n",
       "      <td>https://www.allrecipes.com/recipe/284486/trofi...</td>\n",
       "      <td>rec217</td>\n",
       "      <td>0.271705</td>\n",
       "    </tr>\n",
       "  </tbody>\n",
       "</table>\n",
       "<p>2 rows × 23 columns</p>\n",
       "</div>"
      ],
      "text/plain": [
       "                         Name  \\\n",
       "0  Two-Ingredient Pizza Dough   \n",
       "1        Trofie alla Genovese   \n",
       "\n",
       "                               Ingredient_Names_Text  \\\n",
       "0               self-rising_flour greek_yogurt spray   \n",
       "1  pine_nuts basil parmesan_cheese extra-virgin_o...   \n",
       "\n",
       "                                        Instructions  Rating_Value  \\\n",
       "0  Gather all ingredients. Preheat the oven to 50...           4.6   \n",
       "1  Start by making the pesto: Heat a dry pan over...           0.0   \n",
       "\n",
       "   Preparation_Time  Cooking_Time  Category    Cuisine  Calories  \\\n",
       "0              15.0          10.0  [Dinner]  [Italian]     116.0   \n",
       "1              20.0          40.0  [Dinner]  [Italian]     470.0   \n",
       "\n",
       "   Carbohydrates  ...  Saturated_Fat  Sodium  Sugar   Fat  Unsaturated_Fat  \\\n",
       "0           18.0  ...            1.0   314.0    1.0   3.0              0.0   \n",
       "1           26.0  ...            7.0   437.0    2.0  38.0              0.0   \n",
       "\n",
       "                                           Nutrition  \\\n",
       "0  {\"Calories\": \"116 kcal\", \"Carbohydrates\": \"18 ...   \n",
       "1  {\"Calories\": \"470 kcal\", \"Carbohydrates\": \"26 ...   \n",
       "\n",
       "                                         Ingredients  \\\n",
       "0  [{'ingredient': 'self-rising flour', 'quantity...   \n",
       "1  [{'ingredient': 'pine nuts', 'quantity': '0.33...   \n",
       "\n",
       "                                                 URL      id similarity_score  \n",
       "0  https://www.allrecipes.com/recipe/244447/two-i...  rec136         0.309097  \n",
       "1  https://www.allrecipes.com/recipe/284486/trofi...  rec217         0.271705  \n",
       "\n",
       "[2 rows x 23 columns]"
      ]
     },
     "execution_count": 16,
     "metadata": {},
     "output_type": "execute_result"
    }
   ],
   "source": [
    "# Example manual query parameters \n",
    "params = {\n",
    "    \"name_query\": \"pasta\",              # Text to search in recipe names\n",
    "    \"ingredients_query\": \"pasta\", # Text to search in ingredients\n",
    "    \"instructions_query\": \"\",      # Text to search in instructions\n",
    "    \"limit\": 5,                                  # Number of results to return\n",
    "\n",
    "    # Weights for similarity spaces (adjust as needed)\n",
    "    \"name_weight\": 1.0,\n",
    "    \"ingredients_weight\": 1.0,\n",
    "    \"instructions_weight\": 0.0,\n",
    "\n",
    "    # Similarity weights (can be same as above or different)\n",
    "    \"similar_name_weight\": 1.0,\n",
    "    \"similar_ingredients_weight\": 1.0,\n",
    "    \"similar_instructions_weight\": 0.0,\n",
    "\n",
    "    # Numerical filters (set to None or appropriate values)\n",
    "    \"min_rating\": 0.0,\n",
    "    #\"max_rating\": 15.0,\n",
    "    \"min_prep_time\": 0.0,\n",
    "    \"max_prep_time\": 40.0,\n",
    "    \"min_cook_time\": 0.0,\n",
    "    \"max_cook_time\": 40.0,\n",
    "    \"max_calories\": 500.0,\n",
    "\n",
    "    # Categorical filters (empty list or specify categories/cuisines)\n",
    "    # Remove or set to None to disable categories filtering\n",
    "    \"categories_include_any\": [\"Lunch\", \"Dinner\"],\n",
    "    #\"categories_exclude\": [],\n",
    "    # Remove or set to None to disable cuisine filtering\n",
    "    \"cuisines_include_any\": [\"Italian\"],\n",
    "    # \"cuisines_exclude\": [],\n",
    "}\n",
    "\n",
    "# Run the query with manual parameters\n",
    "result = app.query(query, **params)\n",
    "\n",
    "# Print search parameters and convert results to pandas DataFrame\n",
    "# Show all rows\n",
    "\n",
    "print(result.metadata.search_params)\n",
    "df = sl.PandasConverter.to_pandas(result)\n",
    "df\n"
   ]
  },
  {
   "cell_type": "code",
   "execution_count": 17,
   "metadata": {},
   "outputs": [
    {
     "data": {
      "text/html": [
       "<div>\n",
       "<style scoped>\n",
       "    .dataframe tbody tr th:only-of-type {\n",
       "        vertical-align: middle;\n",
       "    }\n",
       "\n",
       "    .dataframe tbody tr th {\n",
       "        vertical-align: top;\n",
       "    }\n",
       "\n",
       "    .dataframe thead th {\n",
       "        text-align: right;\n",
       "    }\n",
       "</style>\n",
       "<table border=\"1\" class=\"dataframe\">\n",
       "  <thead>\n",
       "    <tr style=\"text-align: right;\">\n",
       "      <th></th>\n",
       "      <th>id</th>\n",
       "      <th>name</th>\n",
       "      <th>ingredents</th>\n",
       "      <th>instructions</th>\n",
       "      <th>rating</th>\n",
       "      <th>prep_time</th>\n",
       "      <th>cooking_time</th>\n",
       "      <th>calories</th>\n",
       "      <th>protein</th>\n",
       "    </tr>\n",
       "  </thead>\n",
       "  <tbody>\n",
       "    <tr>\n",
       "      <th>0</th>\n",
       "      <td>rec136</td>\n",
       "      <td>0.164990</td>\n",
       "      <td>0.144107</td>\n",
       "      <td>0.0</td>\n",
       "      <td>0.0</td>\n",
       "      <td>0.0</td>\n",
       "      <td>0.0</td>\n",
       "      <td>0.0</td>\n",
       "      <td>0.0</td>\n",
       "    </tr>\n",
       "    <tr>\n",
       "      <th>1</th>\n",
       "      <td>rec217</td>\n",
       "      <td>0.071625</td>\n",
       "      <td>0.200080</td>\n",
       "      <td>0.0</td>\n",
       "      <td>0.0</td>\n",
       "      <td>0.0</td>\n",
       "      <td>0.0</td>\n",
       "      <td>0.0</td>\n",
       "      <td>0.0</td>\n",
       "    </tr>\n",
       "  </tbody>\n",
       "</table>\n",
       "</div>"
      ],
      "text/plain": [
       "       id      name  ingredents  instructions  rating  prep_time  \\\n",
       "0  rec136  0.164990    0.144107           0.0     0.0        0.0   \n",
       "1  rec217  0.071625    0.200080           0.0     0.0        0.0   \n",
       "\n",
       "   cooking_time  calories  protein  \n",
       "0           0.0       0.0      0.0  \n",
       "1           0.0       0.0      0.0  "
      ]
     },
     "execution_count": 17,
     "metadata": {},
     "output_type": "execute_result"
    }
   ],
   "source": [
    "rows = []\n",
    "\n",
    "space_names = [\"name\", \"ingredents\", \"instructions\", \"rating\", \"prep_time\", \"cooking_time\", \"calories\", \"protein\"]\n",
    "\n",
    "# order of spaces is the same as during index creation\n",
    "\n",
    "for entry in result.entries:\n",
    "    partial_scores = dict(zip(space_names, entry.metadata.partial_scores))\n",
    "    row = {\"id\": entry.id, **partial_scores}\n",
    "    rows.append(row)\n",
    "\n",
    "df = pd.DataFrame(rows)\n",
    "df"
   ]
  }
 ],
 "metadata": {
  "kernelspec": {
   "display_name": ".venv",
   "language": "python",
   "name": "python3"
  },
  "language_info": {
   "codemirror_mode": {
    "name": "ipython",
    "version": 3
   },
   "file_extension": ".py",
   "mimetype": "text/x-python",
   "name": "python",
   "nbconvert_exporter": "python",
   "pygments_lexer": "ipython3",
   "version": "3.12.3"
  }
 },
 "nbformat": 4,
 "nbformat_minor": 4
}
