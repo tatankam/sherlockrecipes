{
 "cells": [
  {
   "cell_type": "markdown",
   "metadata": {},
   "source": [
    "Run this notebook in the same virtual environment with superlinked server\n",
    "to ensure the same version of `superlinked` framework."
   ]
  },
  {
   "cell_type": "code",
   "execution_count": 1,
   "metadata": {},
   "outputs": [
    {
     "name": "stdout",
     "output_type": "stream",
     "text": [
      "superlinked==27.0.0\n",
      "superlinked-server==1.27.0\n"
     ]
    }
   ],
   "source": [
    "!pip freeze | grep superlinked"
   ]
  },
  {
   "cell_type": "code",
   "execution_count": 2,
   "metadata": {},
   "outputs": [
    {
     "name": "stdout",
     "output_type": "stream",
     "text": [
      "project_dir is added to sys.path\n"
     ]
    }
   ],
   "source": [
    "from pathlib import Path\n",
    "import sys\n",
    "\n",
    "# depending on the user's setup\n",
    "# we will try to find the superlinked_app directory\n",
    "# and add it to the sys.path\n",
    "\n",
    "cwd = Path.cwd()\n",
    "if cwd.name == \"superlinked-recipes\":\n",
    "    project_dir = cwd / \"projects\" / \"recipe-search\"\n",
    "elif cwd.name == \"notebooks\":\n",
    "    project_dir = cwd.parent\n",
    "else:\n",
    "    project_dir = cwd\n",
    "\n",
    "superlinked_app_dir = project_dir / \"superlinked_app\"\n",
    "assert superlinked_app_dir.exists(), (\n",
    "    f\"{superlinked_app_dir} does not exist\\n\"\n",
    "    \"are you sure you are in the recipe-search/notebooks directory?\"\n",
    ")\n",
    "\n",
    "if str(project_dir) not in sys.path:\n",
    "    sys.path.append(str(project_dir))\n",
    "    print(\"project_dir is added to sys.path\")\n",
    "else:\n",
    "    print(\"project_dir is already in sys.path\")"
   ]
  },
  {
   "cell_type": "code",
   "execution_count": 3,
   "metadata": {},
   "outputs": [
    {
     "name": "stdout",
     "output_type": "stream",
     "text": [
      "/home/biso/development/my_projects/varie/sherlockrecipes\n"
     ]
    }
   ],
   "source": [
    "print(project_dir)"
   ]
  },
  {
   "cell_type": "code",
   "execution_count": 4,
   "metadata": {},
   "outputs": [
    {
     "name": "stdout",
     "output_type": "stream",
     "text": [
      "19:04:36 superlinked.framework.dsl.index.index INFO   initialized index\n"
     ]
    }
   ],
   "source": [
    "from superlinked import framework as sl\n",
    "\n",
    "from superlinked_app.index import index, recipe_schema\n",
    "from superlinked_app.query import query\n",
    "from superlinked_app.api import vector_database\n",
    "\n",
    "import pandas as pd"
   ]
  },
  {
   "cell_type": "code",
   "execution_count": 5,
   "metadata": {},
   "outputs": [
    {
     "name": "stdout",
     "output_type": "stream",
     "text": [
      "19:04:36 httpx INFO   HTTP Request: GET https://bad13d43-afc8-44b5-8b37-2fa1eb4f0236.eu-west-1-0.aws.cloud.qdrant.io:6333 \"HTTP/1.1 200 OK\"\n",
      "19:04:36 httpx INFO   HTTP Request: GET https://bad13d43-afc8-44b5-8b37-2fa1eb4f0236.eu-west-1-0.aws.cloud.qdrant.io:6333/collections/default/exists \"HTTP/1.1 200 OK\"\n",
      "19:04:36 httpx INFO   HTTP Request: GET https://bad13d43-afc8-44b5-8b37-2fa1eb4f0236.eu-west-1-0.aws.cloud.qdrant.io:6333/collections/default \"HTTP/1.1 200 OK\"\n",
      "19:04:37 httpx INFO   HTTP Request: PUT https://bad13d43-afc8-44b5-8b37-2fa1eb4f0236.eu-west-1-0.aws.cloud.qdrant.io:6333/collections/default/index?wait=true \"HTTP/1.1 200 OK\"\n",
      "19:04:37 httpx INFO   HTTP Request: PUT https://bad13d43-afc8-44b5-8b37-2fa1eb4f0236.eu-west-1-0.aws.cloud.qdrant.io:6333/collections/default/index?wait=true \"HTTP/1.1 200 OK\"\n",
      "19:04:37 httpx INFO   HTTP Request: PUT https://bad13d43-afc8-44b5-8b37-2fa1eb4f0236.eu-west-1-0.aws.cloud.qdrant.io:6333/collections/default/index?wait=true \"HTTP/1.1 200 OK\"\n",
      "19:04:37 httpx INFO   HTTP Request: PUT https://bad13d43-afc8-44b5-8b37-2fa1eb4f0236.eu-west-1-0.aws.cloud.qdrant.io:6333/collections/default/index?wait=true \"HTTP/1.1 200 OK\"\n",
      "19:04:37 httpx INFO   HTTP Request: PUT https://bad13d43-afc8-44b5-8b37-2fa1eb4f0236.eu-west-1-0.aws.cloud.qdrant.io:6333/collections/default/index?wait=true \"HTTP/1.1 200 OK\"\n",
      "19:04:37 httpx INFO   HTTP Request: PUT https://bad13d43-afc8-44b5-8b37-2fa1eb4f0236.eu-west-1-0.aws.cloud.qdrant.io:6333/collections/default/index?wait=true \"HTTP/1.1 200 OK\"\n",
      "19:04:37 httpx INFO   HTTP Request: PUT https://bad13d43-afc8-44b5-8b37-2fa1eb4f0236.eu-west-1-0.aws.cloud.qdrant.io:6333/collections/default/index?wait=true \"HTTP/1.1 200 OK\"\n",
      "19:04:37 httpx INFO   HTTP Request: PUT https://bad13d43-afc8-44b5-8b37-2fa1eb4f0236.eu-west-1-0.aws.cloud.qdrant.io:6333/collections/default/index?wait=true \"HTTP/1.1 200 OK\"\n",
      "19:04:37 httpx INFO   HTTP Request: PUT https://bad13d43-afc8-44b5-8b37-2fa1eb4f0236.eu-west-1-0.aws.cloud.qdrant.io:6333/collections/default/index?wait=true \"HTTP/1.1 200 OK\"\n",
      "19:04:37 httpx INFO   HTTP Request: PUT https://bad13d43-afc8-44b5-8b37-2fa1eb4f0236.eu-west-1-0.aws.cloud.qdrant.io:6333/collections/default/index?wait=true \"HTTP/1.1 200 OK\"\n",
      "19:04:38 httpx INFO   HTTP Request: PUT https://bad13d43-afc8-44b5-8b37-2fa1eb4f0236.eu-west-1-0.aws.cloud.qdrant.io:6333/collections/default/index?wait=true \"HTTP/1.1 200 OK\"\n",
      "19:04:38 httpx INFO   HTTP Request: PUT https://bad13d43-afc8-44b5-8b37-2fa1eb4f0236.eu-west-1-0.aws.cloud.qdrant.io:6333/collections/default/index?wait=true \"HTTP/1.1 200 OK\"\n",
      "19:04:38 httpx INFO   HTTP Request: PUT https://bad13d43-afc8-44b5-8b37-2fa1eb4f0236.eu-west-1-0.aws.cloud.qdrant.io:6333/collections/default/index?wait=true \"HTTP/1.1 200 OK\"\n",
      "19:04:38 httpx INFO   HTTP Request: PUT https://bad13d43-afc8-44b5-8b37-2fa1eb4f0236.eu-west-1-0.aws.cloud.qdrant.io:6333/collections/default/index?wait=true \"HTTP/1.1 200 OK\"\n",
      "19:04:38 httpx INFO   HTTP Request: PUT https://bad13d43-afc8-44b5-8b37-2fa1eb4f0236.eu-west-1-0.aws.cloud.qdrant.io:6333/collections/default/index?wait=true \"HTTP/1.1 200 OK\"\n",
      "19:04:38 httpx INFO   HTTP Request: PUT https://bad13d43-afc8-44b5-8b37-2fa1eb4f0236.eu-west-1-0.aws.cloud.qdrant.io:6333/collections/default/index?wait=true \"HTTP/1.1 200 OK\"\n",
      "19:04:38 httpx INFO   HTTP Request: PUT https://bad13d43-afc8-44b5-8b37-2fa1eb4f0236.eu-west-1-0.aws.cloud.qdrant.io:6333/collections/default/index?wait=true \"HTTP/1.1 200 OK\"\n",
      "19:04:38 httpx INFO   HTTP Request: PUT https://bad13d43-afc8-44b5-8b37-2fa1eb4f0236.eu-west-1-0.aws.cloud.qdrant.io:6333/collections/default/index?wait=true \"HTTP/1.1 200 OK\"\n",
      "19:04:38 httpx INFO   HTTP Request: PUT https://bad13d43-afc8-44b5-8b37-2fa1eb4f0236.eu-west-1-0.aws.cloud.qdrant.io:6333/collections/default/index?wait=true \"HTTP/1.1 200 OK\"\n",
      "19:04:38 superlinked.framework.query.query_dag_evaluator INFO   initialized query dag\n",
      "19:04:38 superlinked.framework.online.online_dag_evaluator INFO   initialized entity dag\n",
      "19:04:38 superlinked.framework.dsl.executor.interactive.interactive_executor INFO   started interactive app\n"
     ]
    }
   ],
   "source": [
    "source = sl.InteractiveSource(recipe_schema)\n",
    "executor = sl.InteractiveExecutor(\n",
    "    sources=[source],\n",
    "    indices=[index],\n",
    "    vector_database=vector_database,\n",
    ")\n",
    "app = executor.run()"
   ]
  },
  {
   "cell_type": "code",
   "execution_count": 6,
   "metadata": {},
   "outputs": [],
   "source": [
    "# params = {\n",
    "#     \"natural_query\": \"well rated pet friendly hotel in london, cozy interior\",\n",
    "#     \"limit\": 3,\n",
    "# }\n",
    "\n",
    "# result = app.query(query, **params)\n",
    "# print(result.metadata.search_params)\n",
    "# sl.PandasConverter.to_pandas(result)"
   ]
  },
  {
   "cell_type": "code",
   "execution_count": 41,
   "metadata": {},
   "outputs": [
    {
     "name": "stdout",
     "output_type": "stream",
     "text": [
      "19:18:17 superlinked.framework.query.query_dag_evaluator INFO   evaluated query\n"
     ]
    },
    {
     "name": "stdout",
     "output_type": "stream",
     "text": [
      "19:18:18 httpx INFO   HTTP Request: POST https://bad13d43-afc8-44b5-8b37-2fa1eb4f0236.eu-west-1-0.aws.cloud.qdrant.io:6333/collections/default/points/query \"HTTP/1.1 200 OK\"\n",
      "19:18:18 superlinked.framework.dsl.executor.query.query_executor INFO   executed query\n",
      "{'name_query': 'Pizza', 'similar_name_weight': 1.0, 'ingredients_query': 'greek_yogurt', 'similar_ingredients_weight': 1.0, 'instructions_query': 'Preheat', 'similar_instructions_weight': 1.0, 'limit': 5, 'select_param__': ['Name', 'Ingredient_Names_Text', 'Instructions', 'Rating_Value', 'Preparation_Time', 'Cooking_Time', 'Category', 'Cuisine', 'Calories', 'Carbohydrates', 'Cholesterol', 'Fiber', 'Protein', 'Saturated_Fat', 'Sodium', 'Sugar', 'Fat', 'Unsaturated_Fat', 'Nutrition', 'Ingredients', 'URL'], 'min_rating': 4.0, 'max_rating': None, 'min_prep_time': 0.0, 'max_prep_time': 9000.0, 'min_cook_time': 0.0, 'max_cook_time': 1000.0, 'max_calories': 400.0, 'categories_include_all': None, 'categories_include_any': None, 'categories_exclude': None, 'cuisines_include_all': None, 'cuisines_include_any': ['Italian'], 'cuisines_exclude': None, 'natural_query': None, 'system_prompt_param__': \"Extract search parameters from the user's natural language query about recipes.\\nGuidelines:\\n- Identify 'include' and 'exclude' attributes for ingredients, categories, and cuisines.\\n- Extract numeric preferences such as rating, preparation time, and cooking time.\\n- Consider nutrition preferences like 'low calorie', 'high protein', or dietary restrictions.\\n- If no preference is specified for a parameter, use None.\\n- Examples:\\n  1. User query: 'Quick vegan desserts with high rating' -> category: 'dessert', cuisine: None, ingredients include 'vegan', max prep time low, min rating high.\\n  2. User query: 'Gluten-free Italian main courses' -> cuisine: 'Italian', category: 'main course', exclude ingredients containing gluten.\\n  3. User query: 'Easy chicken recipes under 30 minutes' -> ingredients include 'chicken', max prep + cook time 30 mins.\\n\", 'radius_param__': None, 'name_weight': 1.0, 'ingredients_weight': 1.0, 'instructions_weight': 1.0, 'rating_weight': None, 'prep_time_weight': None, 'cook_time_weight': None, 'space_weight_NumberSpace_eab5_param__': None, 'space_weight_NumberSpace_2e5e_param__': None}\n"
     ]
    },
    {
     "data": {
      "text/html": [
       "<div>\n",
       "<style scoped>\n",
       "    .dataframe tbody tr th:only-of-type {\n",
       "        vertical-align: middle;\n",
       "    }\n",
       "\n",
       "    .dataframe tbody tr th {\n",
       "        vertical-align: top;\n",
       "    }\n",
       "\n",
       "    .dataframe thead th {\n",
       "        text-align: right;\n",
       "    }\n",
       "</style>\n",
       "<table border=\"1\" class=\"dataframe\">\n",
       "  <thead>\n",
       "    <tr style=\"text-align: right;\">\n",
       "      <th></th>\n",
       "      <th>Name</th>\n",
       "      <th>Ingredient_Names_Text</th>\n",
       "      <th>Instructions</th>\n",
       "      <th>Rating_Value</th>\n",
       "      <th>Preparation_Time</th>\n",
       "      <th>Cooking_Time</th>\n",
       "      <th>Category</th>\n",
       "      <th>Cuisine</th>\n",
       "      <th>Calories</th>\n",
       "      <th>Carbohydrates</th>\n",
       "      <th>...</th>\n",
       "      <th>Saturated_Fat</th>\n",
       "      <th>Sodium</th>\n",
       "      <th>Sugar</th>\n",
       "      <th>Fat</th>\n",
       "      <th>Unsaturated_Fat</th>\n",
       "      <th>Nutrition</th>\n",
       "      <th>Ingredients</th>\n",
       "      <th>URL</th>\n",
       "      <th>id</th>\n",
       "      <th>similarity_score</th>\n",
       "    </tr>\n",
       "  </thead>\n",
       "  <tbody>\n",
       "    <tr>\n",
       "      <th>0</th>\n",
       "      <td>Two-Ingredient Pizza Dough</td>\n",
       "      <td>self-rising_flour greek_yogurt spray</td>\n",
       "      <td>Gather all ingredients. Preheat the oven to 50...</td>\n",
       "      <td>4.6</td>\n",
       "      <td>15.0</td>\n",
       "      <td>10.0</td>\n",
       "      <td>[Dinner]</td>\n",
       "      <td>[Italian]</td>\n",
       "      <td>116.0</td>\n",
       "      <td>18.0</td>\n",
       "      <td>...</td>\n",
       "      <td>1.0</td>\n",
       "      <td>314.0</td>\n",
       "      <td>1.0</td>\n",
       "      <td>3.0</td>\n",
       "      <td>0.0</td>\n",
       "      <td>{\"Calories\": \"116 kcal\", \"Carbohydrates\": \"18 ...</td>\n",
       "      <td>[{'ingredient': 'self-rising flour', 'quantity...</td>\n",
       "      <td>https://www.allrecipes.com/recipe/244447/two-i...</td>\n",
       "      <td>rec136</td>\n",
       "      <td>0.492732</td>\n",
       "    </tr>\n",
       "    <tr>\n",
       "      <th>1</th>\n",
       "      <td>Lemon Ricotta Cake</td>\n",
       "      <td>cake_flour baking_powder baking_soda salt whit...</td>\n",
       "      <td>Gather the ingredients. Preheat the oven to 35...</td>\n",
       "      <td>4.9</td>\n",
       "      <td>20.0</td>\n",
       "      <td>40.0</td>\n",
       "      <td>[Cake]</td>\n",
       "      <td>[Italian]</td>\n",
       "      <td>340.0</td>\n",
       "      <td>44.0</td>\n",
       "      <td>...</td>\n",
       "      <td>9.0</td>\n",
       "      <td>336.0</td>\n",
       "      <td>27.0</td>\n",
       "      <td>16.0</td>\n",
       "      <td>0.0</td>\n",
       "      <td>{\"Calories\": \"340 kcal\", \"Carbohydrates\": \"44 ...</td>\n",
       "      <td>[{'ingredient': 'cake flour', 'quantity': '1.5...</td>\n",
       "      <td>https://www.allrecipes.com/recipe/275349/lemon...</td>\n",
       "      <td>rec443</td>\n",
       "      <td>0.340483</td>\n",
       "    </tr>\n",
       "  </tbody>\n",
       "</table>\n",
       "<p>2 rows × 23 columns</p>\n",
       "</div>"
      ],
      "text/plain": [
       "                         Name  \\\n",
       "0  Two-Ingredient Pizza Dough   \n",
       "1          Lemon Ricotta Cake   \n",
       "\n",
       "                               Ingredient_Names_Text  \\\n",
       "0               self-rising_flour greek_yogurt spray   \n",
       "1  cake_flour baking_powder baking_soda salt whit...   \n",
       "\n",
       "                                        Instructions  Rating_Value  \\\n",
       "0  Gather all ingredients. Preheat the oven to 50...           4.6   \n",
       "1  Gather the ingredients. Preheat the oven to 35...           4.9   \n",
       "\n",
       "   Preparation_Time  Cooking_Time  Category    Cuisine  Calories  \\\n",
       "0              15.0          10.0  [Dinner]  [Italian]     116.0   \n",
       "1              20.0          40.0    [Cake]  [Italian]     340.0   \n",
       "\n",
       "   Carbohydrates  ...  Saturated_Fat  Sodium  Sugar   Fat  Unsaturated_Fat  \\\n",
       "0           18.0  ...            1.0   314.0    1.0   3.0              0.0   \n",
       "1           44.0  ...            9.0   336.0   27.0  16.0              0.0   \n",
       "\n",
       "                                           Nutrition  \\\n",
       "0  {\"Calories\": \"116 kcal\", \"Carbohydrates\": \"18 ...   \n",
       "1  {\"Calories\": \"340 kcal\", \"Carbohydrates\": \"44 ...   \n",
       "\n",
       "                                         Ingredients  \\\n",
       "0  [{'ingredient': 'self-rising flour', 'quantity...   \n",
       "1  [{'ingredient': 'cake flour', 'quantity': '1.5...   \n",
       "\n",
       "                                                 URL      id similarity_score  \n",
       "0  https://www.allrecipes.com/recipe/244447/two-i...  rec136         0.492732  \n",
       "1  https://www.allrecipes.com/recipe/275349/lemon...  rec443         0.340483  \n",
       "\n",
       "[2 rows x 23 columns]"
      ]
     },
     "execution_count": 41,
     "metadata": {},
     "output_type": "execute_result"
    }
   ],
   "source": [
    "# Example manual query parameters\n",
    "params = {\n",
    "    \"name_query\": \"Pizza\",              # Text to search in recipe names\n",
    "    \"ingredients_query\": \"greek_yogurt\", # Text to search in ingredients\n",
    "    \"instructions_query\": \"Preheat\",      # Text to search in instructions\n",
    "    \"limit\": 5,                                  # Number of results to return\n",
    "\n",
    "    # Weights for similarity spaces (adjust as needed)\n",
    "    \"name_weight\": 1.0,\n",
    "    \"ingredients_weight\": 1.0,\n",
    "    \"instructions_weight\": 1.0,\n",
    "\n",
    "    # Similarity weights (can be same as above or different)\n",
    "    \"similar_name_weight\": 1.0,\n",
    "    \"similar_ingredients_weight\": 1.0,\n",
    "    \"similar_instructions_weight\": 1.0,\n",
    "\n",
    "    # Numerical filters (set to None or appropriate values)\n",
    "    \"min_rating\": 4.0,\n",
    "    #\"max_rating\": 15.0,\n",
    "    \"min_prep_time\": 0.0,\n",
    "    \"max_prep_time\": 9000.0,\n",
    "    \"min_cook_time\": 0.0,\n",
    "    \"max_cook_time\": 1000.0,\n",
    "    \"max_calories\": 400.0,\n",
    "\n",
    "    # Categorical filters (empty list or specify categories/cuisines)\n",
    "    # Remove or set to None to disable categories filtering\n",
    "    #\"categories_include_any\": [\"Dinner\"],\n",
    "    #\"categories_exclude\": [],\n",
    "    # Remove or set to None to disable cuisine filtering\n",
    "    \"cuisines_include_any\": [\"Italian\"],\n",
    "    # \"cuisines_exclude\": [],\n",
    "}\n",
    "\n",
    "# Run the query with manual parameters\n",
    "result = app.query(query, **params)\n",
    "\n",
    "# Print search parameters and convert results to pandas DataFrame\n",
    "\n",
    "# Show all rows\n",
    "\n",
    "print(result.metadata.search_params)\n",
    "df = sl.PandasConverter.to_pandas(result)\n",
    "df\n"
   ]
  },
  {
   "cell_type": "code",
   "execution_count": 35,
   "metadata": {},
   "outputs": [
    {
     "data": {
      "text/plain": [
       "[ResultEntry(id='rec136', fields={'Name': 'Two-Ingredient Pizza Dough', 'Ingredient_Names_Text': 'self-rising_flour greek_yogurt spray', 'Instructions': 'Gather all ingredients. Preheat the oven to 500 degrees F (260 degrees C). Mix flour and Greek yogurt together in a bowl to form a dough  transfer to a work surface floured with self-rising flour. Knead dough, adding more flour as needed to keep dough from being too sticky, about 8 to 10 minutes. Spray a 12-inch pizza pan with cooking spray and spread dough to the edges of the pan. Bake pizza crust in preheated oven for 5 to 7 minutes  add your favorite toppings and return to the preheated oven. Bake until crust is lightly browned, 5 to 7 minutes more. Enjoy!', 'Rating_Value': 4.6, 'Preparation_Time': 15.0, 'Cooking_Time': 10.0, 'Category': ['Dinner'], 'Cuisine': ['Italian'], 'Calories': 116.0, 'Carbohydrates': 18.0, 'Cholesterol': 6.0, 'Fiber': 1.0, 'Protein': 4.0, 'Saturated_Fat': 1.0, 'Sodium': 314.0, 'Sugar': 1.0, 'Fat': 3.0, 'Unsaturated_Fat': 0.0, 'Nutrition': '{\"Calories\": \"116 kcal\", \"Carbohydrates\": \"18 g\", \"Cholesterol\": \"6 mg\", \"Fiber\": \"1 g\", \"Protein\": \"4 g\", \"Saturated Fat\": \"1 g\", \"Sodium\": \"314 mg\", \"Sugar\": \"1 g\", \"Fat\": \"3 g\", \"Unsaturated Fat\": \"0 g\"}', 'Ingredients': \"[{'ingredient': 'self-rising flour', 'quantity': '1.5', 'unit': 'cups', 'misc': 'plus more for kneading'}, {'ingredient': 'greek yogurt', 'quantity': '1', 'unit': 'cup', 'misc': 'plain'}, {'ingredient': 'spray', 'quantity': '', 'unit': 'cooking', 'misc': ''}]\", 'URL': 'https://www.allrecipes.com/recipe/244447/two-ingredient-pizza-dough/'}, metadata=ResultEntryMetadata(score=0.55147195, partial_scores=[0.25360597064468, 0.2978660267098696, 0.0, 0.0, 0.0, 0.0, 0.0, 0.0], vector_parts=[])),\n",
       " ResultEntry(id='rec443', fields={'Name': 'Lemon Ricotta Cake', 'Ingredient_Names_Text': 'cake_flour baking_powder baking_soda salt white_sugar butter at_room_temperature whole-milk_ricotta_cheese lemon lemon_extract vanilla_extract powdered_sugar lemon_juice lemon_zest', 'Instructions': \"Gather the ingredients. Preheat the oven to 350 degrees F (175 degrees C). Grease and flour a tube cake or Bundt pan. Mix cake flour, baking powder, baking soda, and salt into a large bowl. Beat sugar and butter with an electric mixer on medium speed in a separate bowl until light and fluffy, about 3 minutes. Add eggs, 1 at a time, and beat until well combined. Beat in ricotta cheese, lemon juice, lemon zest, lemon extract, and vanilla extract until well blended. Add flour mixture and mix until batter is smooth. Pour batter into the prepared tube pan. Bake in the preheated oven until a toothpick inserted into the center comes out clean, 40 to 50 minutes. Cool in the pan for 10 minutes before inverting on a wire rack to cool completely, about 30 minutes. Meanwhile, mix powdered sugar, lemon juice, and lemon zest together. Add more lemon juice if the glaze is too thick, or more powdered sugar if it's too thin. Drizzle the glaze over the cooled cake.\", 'Rating_Value': 4.9, 'Preparation_Time': 20.0, 'Cooking_Time': 40.0, 'Category': ['Cake'], 'Cuisine': ['Italian'], 'Calories': 340.0, 'Carbohydrates': 44.0, 'Cholesterol': 82.0, 'Fiber': 1.0, 'Protein': 7.0, 'Saturated_Fat': 9.0, 'Sodium': 336.0, 'Sugar': 27.0, 'Fat': 16.0, 'Unsaturated_Fat': 0.0, 'Nutrition': '{\"Calories\": \"340 kcal\", \"Carbohydrates\": \"44 g\", \"Cholesterol\": \"82 mg\", \"Fiber\": \"1 g\", \"Protein\": \"7 g\", \"Saturated Fat\": \"9 g\", \"Sodium\": \"336 mg\", \"Sugar\": \"27 g\", \"Fat\": \"16 g\", \"Unsaturated Fat\": \"0 g\"}', 'Ingredients': \"[{'ingredient': 'cake flour', 'quantity': '1.5', 'unit': 'cups', 'misc': ''}, {'ingredient': 'baking powder', 'quantity': '1', 'unit': 'teaspoon', 'misc': ''}, {'ingredient': 'baking soda', 'quantity': '1', 'unit': 'teaspoon', 'misc': ''}, {'ingredient': 'salt', 'quantity': '0.25', 'unit': 'teaspoon', 'misc': ''}, {'ingredient': 'white sugar', 'quantity': '1', 'unit': 'cup', 'misc': ''}, {'ingredient': 'butter', 'quantity': '0.75', 'unit': 'cup', 'misc': 'softened'}, {'ingredient': 'at room temperature', 'quantity': '3', 'unit': 'eggs', 'misc': ''}, {'ingredient': 'whole-milk ricotta cheese', 'quantity': '1', 'unit': 'container', 'misc': '15 ounce'}, {'ingredient': 'lemon', 'quantity': '1', 'unit': '', 'misc': 'juiced and zested'}, {'ingredient': 'lemon extract', 'quantity': '1', 'unit': 'teaspoon', 'misc': ''}, {'ingredient': 'vanilla extract', 'quantity': '0.5', 'unit': 'teaspoon', 'misc': ''}, {'ingredient': 'powdered sugar', 'quantity': '1', 'unit': 'cup', 'misc': ''}, {'ingredient': 'lemon juice', 'quantity': '2', 'unit': 'tablespoons', 'misc': ''}, {'ingredient': 'lemon zest', 'quantity': '1', 'unit': 'tablespoon', 'misc': ''}]\", 'URL': 'https://www.allrecipes.com/recipe/275349/lemon-ricotta-cake/'}, metadata=ResultEntryMetadata(score=0.34324017, partial_scores=[0.17850587609537746, 0.1647342987875287, 0.0, 0.0, 0.0, 0.0, 0.0, 0.0], vector_parts=[]))]"
      ]
     },
     "execution_count": 35,
     "metadata": {},
     "output_type": "execute_result"
    }
   ],
   "source": [
    "result.entries  # Accessing the name of the first recipe"
   ]
  },
  {
   "cell_type": "code",
   "execution_count": 42,
   "metadata": {},
   "outputs": [
    {
     "data": {
      "text/html": [
       "<div>\n",
       "<style scoped>\n",
       "    .dataframe tbody tr th:only-of-type {\n",
       "        vertical-align: middle;\n",
       "    }\n",
       "\n",
       "    .dataframe tbody tr th {\n",
       "        vertical-align: top;\n",
       "    }\n",
       "\n",
       "    .dataframe thead th {\n",
       "        text-align: right;\n",
       "    }\n",
       "</style>\n",
       "<table border=\"1\" class=\"dataframe\">\n",
       "  <thead>\n",
       "    <tr style=\"text-align: right;\">\n",
       "      <th></th>\n",
       "      <th>id</th>\n",
       "      <th>name</th>\n",
       "      <th>ingredents</th>\n",
       "      <th>instructions</th>\n",
       "      <th>rating</th>\n",
       "      <th>prep_time</th>\n",
       "      <th>cooking_time</th>\n",
       "      <th>calories</th>\n",
       "      <th>protein</th>\n",
       "    </tr>\n",
       "  </thead>\n",
       "  <tbody>\n",
       "    <tr>\n",
       "      <th>0</th>\n",
       "      <td>rec136</td>\n",
       "      <td>0.169071</td>\n",
       "      <td>0.198577</td>\n",
       "      <td>0.125084</td>\n",
       "      <td>0.0</td>\n",
       "      <td>0.0</td>\n",
       "      <td>0.0</td>\n",
       "      <td>0.0</td>\n",
       "      <td>0.0</td>\n",
       "    </tr>\n",
       "    <tr>\n",
       "      <th>1</th>\n",
       "      <td>rec443</td>\n",
       "      <td>0.119004</td>\n",
       "      <td>0.109823</td>\n",
       "      <td>0.111656</td>\n",
       "      <td>0.0</td>\n",
       "      <td>0.0</td>\n",
       "      <td>0.0</td>\n",
       "      <td>0.0</td>\n",
       "      <td>0.0</td>\n",
       "    </tr>\n",
       "  </tbody>\n",
       "</table>\n",
       "</div>"
      ],
      "text/plain": [
       "       id      name  ingredents  instructions  rating  prep_time  \\\n",
       "0  rec136  0.169071    0.198577      0.125084     0.0        0.0   \n",
       "1  rec443  0.119004    0.109823      0.111656     0.0        0.0   \n",
       "\n",
       "   cooking_time  calories  protein  \n",
       "0           0.0       0.0      0.0  \n",
       "1           0.0       0.0      0.0  "
      ]
     },
     "execution_count": 42,
     "metadata": {},
     "output_type": "execute_result"
    }
   ],
   "source": [
    "rows = []\n",
    "\n",
    "space_names = [\"name\", \"ingredents\", \"instructions\", \"rating\", \"prep_time\", \"cooking_time\", \"calories\", \"protein\"]\n",
    "\n",
    "# order of spaces is the same as during index creation\n",
    "\n",
    "for entry in result.entries:\n",
    "    partial_scores = dict(zip(space_names, entry.metadata.partial_scores))\n",
    "    row = {\"id\": entry.id, **partial_scores}\n",
    "    rows.append(row)\n",
    "\n",
    "df = pd.DataFrame(rows)\n",
    "df"
   ]
  }
 ],
 "metadata": {
  "kernelspec": {
   "display_name": ".venv",
   "language": "python",
   "name": "python3"
  },
  "language_info": {
   "codemirror_mode": {
    "name": "ipython",
    "version": 3
   },
   "file_extension": ".py",
   "mimetype": "text/x-python",
   "name": "python",
   "nbconvert_exporter": "python",
   "pygments_lexer": "ipython3",
   "version": "3.12.3"
  }
 },
 "nbformat": 4,
 "nbformat_minor": 4
}
