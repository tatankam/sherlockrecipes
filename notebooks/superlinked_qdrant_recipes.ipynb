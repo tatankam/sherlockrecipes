{
 "cells": [
  {
   "cell_type": "markdown",
   "metadata": {},
   "source": [
    "Run this notebook in the same virtual environment with superlinked server\n",
    "to ensure the same version of `superlinked` framework."
   ]
  },
  {
   "cell_type": "code",
   "execution_count": null,
   "metadata": {},
   "outputs": [],
   "source": [
    "!pip freeze | grep superlinked"
   ]
  },
  {
   "cell_type": "code",
   "execution_count": 1,
   "metadata": {},
   "outputs": [
    {
     "name": "stdout",
     "output_type": "stream",
     "text": [
      "project_dir is added to sys.path\n"
     ]
    }
   ],
   "source": [
    "from pathlib import Path\n",
    "import sys\n",
    "\n",
    "# depending on the user's setup\n",
    "# we will try to find the superlinked_app directory\n",
    "# and add it to the sys.path\n",
    "\n",
    "cwd = Path.cwd()\n",
    "if cwd.name == \"superlinked-recipes\":\n",
    "    project_dir = cwd / \"projects\" / \"recipe-search\"\n",
    "elif cwd.name == \"notebooks\":\n",
    "    project_dir = cwd.parent\n",
    "else:\n",
    "    project_dir = cwd\n",
    "\n",
    "superlinked_app_dir = project_dir / \"superlinked_app\"\n",
    "assert superlinked_app_dir.exists(), (\n",
    "    f\"{superlinked_app_dir} does not exist\\n\"\n",
    "    \"are you sure you are in the recipe-search/notebooks directory?\"\n",
    ")\n",
    "\n",
    "if str(project_dir) not in sys.path:\n",
    "    sys.path.append(str(project_dir))\n",
    "    print(\"project_dir is added to sys.path\")\n",
    "else:\n",
    "    print(\"project_dir is already in sys.path\")"
   ]
  },
  {
   "cell_type": "code",
   "execution_count": 2,
   "metadata": {},
   "outputs": [
    {
     "name": "stderr",
     "output_type": "stream",
     "text": [
      "/home/biso/development/my_projects/.venv/lib/python3.12/site-packages/tqdm/auto.py:21: TqdmWarning: IProgress not found. Please update jupyter and ipywidgets. See https://ipywidgets.readthedocs.io/en/stable/user_install.html\n",
      "  from .autonotebook import tqdm as notebook_tqdm\n"
     ]
    },
    {
     "name": "stdout",
     "output_type": "stream",
     "text": [
      "11:51:58 superlinked.framework.dsl.index.index INFO   initialized index\n"
     ]
    }
   ],
   "source": [
    "from superlinked import framework as sl\n",
    "\n",
    "from superlinked_app.index import index, recipe_schema\n",
    "from superlinked_app.query import query\n",
    "from superlinked_app.api import vector_database\n",
    "\n",
    "import pandas as pd"
   ]
  },
  {
   "cell_type": "code",
   "execution_count": 3,
   "metadata": {},
   "outputs": [
    {
     "name": "stdout",
     "output_type": "stream",
     "text": [
      "11:52:00 httpx INFO   HTTP Request: GET https://bad13d43-afc8-44b5-8b37-2fa1eb4f0236.eu-west-1-0.aws.cloud.qdrant.io:6333 \"HTTP/1.1 200 OK\"\n",
      "11:52:00 httpx INFO   HTTP Request: GET https://bad13d43-afc8-44b5-8b37-2fa1eb4f0236.eu-west-1-0.aws.cloud.qdrant.io:6333/collections/default/exists \"HTTP/1.1 200 OK\"\n",
      "11:52:00 httpx INFO   HTTP Request: GET https://bad13d43-afc8-44b5-8b37-2fa1eb4f0236.eu-west-1-0.aws.cloud.qdrant.io:6333/collections/default \"HTTP/1.1 200 OK\"\n",
      "11:52:00 httpx INFO   HTTP Request: PUT https://bad13d43-afc8-44b5-8b37-2fa1eb4f0236.eu-west-1-0.aws.cloud.qdrant.io:6333/collections/default/index?wait=true \"HTTP/1.1 200 OK\"\n",
      "11:52:00 httpx INFO   HTTP Request: PUT https://bad13d43-afc8-44b5-8b37-2fa1eb4f0236.eu-west-1-0.aws.cloud.qdrant.io:6333/collections/default/index?wait=true \"HTTP/1.1 200 OK\"\n",
      "11:52:01 httpx INFO   HTTP Request: PUT https://bad13d43-afc8-44b5-8b37-2fa1eb4f0236.eu-west-1-0.aws.cloud.qdrant.io:6333/collections/default/index?wait=true \"HTTP/1.1 200 OK\"\n",
      "11:52:01 httpx INFO   HTTP Request: PUT https://bad13d43-afc8-44b5-8b37-2fa1eb4f0236.eu-west-1-0.aws.cloud.qdrant.io:6333/collections/default/index?wait=true \"HTTP/1.1 200 OK\"\n",
      "11:52:01 httpx INFO   HTTP Request: PUT https://bad13d43-afc8-44b5-8b37-2fa1eb4f0236.eu-west-1-0.aws.cloud.qdrant.io:6333/collections/default/index?wait=true \"HTTP/1.1 200 OK\"\n",
      "11:52:01 httpx INFO   HTTP Request: PUT https://bad13d43-afc8-44b5-8b37-2fa1eb4f0236.eu-west-1-0.aws.cloud.qdrant.io:6333/collections/default/index?wait=true \"HTTP/1.1 200 OK\"\n",
      "11:52:01 httpx INFO   HTTP Request: PUT https://bad13d43-afc8-44b5-8b37-2fa1eb4f0236.eu-west-1-0.aws.cloud.qdrant.io:6333/collections/default/index?wait=true \"HTTP/1.1 200 OK\"\n",
      "11:52:01 httpx INFO   HTTP Request: PUT https://bad13d43-afc8-44b5-8b37-2fa1eb4f0236.eu-west-1-0.aws.cloud.qdrant.io:6333/collections/default/index?wait=true \"HTTP/1.1 200 OK\"\n",
      "11:52:01 httpx INFO   HTTP Request: PUT https://bad13d43-afc8-44b5-8b37-2fa1eb4f0236.eu-west-1-0.aws.cloud.qdrant.io:6333/collections/default/index?wait=true \"HTTP/1.1 200 OK\"\n",
      "11:52:01 httpx INFO   HTTP Request: PUT https://bad13d43-afc8-44b5-8b37-2fa1eb4f0236.eu-west-1-0.aws.cloud.qdrant.io:6333/collections/default/index?wait=true \"HTTP/1.1 200 OK\"\n",
      "11:52:01 httpx INFO   HTTP Request: PUT https://bad13d43-afc8-44b5-8b37-2fa1eb4f0236.eu-west-1-0.aws.cloud.qdrant.io:6333/collections/default/index?wait=true \"HTTP/1.1 200 OK\"\n",
      "11:52:01 httpx INFO   HTTP Request: PUT https://bad13d43-afc8-44b5-8b37-2fa1eb4f0236.eu-west-1-0.aws.cloud.qdrant.io:6333/collections/default/index?wait=true \"HTTP/1.1 200 OK\"\n",
      "11:52:02 httpx INFO   HTTP Request: PUT https://bad13d43-afc8-44b5-8b37-2fa1eb4f0236.eu-west-1-0.aws.cloud.qdrant.io:6333/collections/default/index?wait=true \"HTTP/1.1 200 OK\"\n",
      "11:52:02 httpx INFO   HTTP Request: PUT https://bad13d43-afc8-44b5-8b37-2fa1eb4f0236.eu-west-1-0.aws.cloud.qdrant.io:6333/collections/default/index?wait=true \"HTTP/1.1 200 OK\"\n",
      "11:52:02 httpx INFO   HTTP Request: PUT https://bad13d43-afc8-44b5-8b37-2fa1eb4f0236.eu-west-1-0.aws.cloud.qdrant.io:6333/collections/default/index?wait=true \"HTTP/1.1 200 OK\"\n",
      "11:52:02 httpx INFO   HTTP Request: PUT https://bad13d43-afc8-44b5-8b37-2fa1eb4f0236.eu-west-1-0.aws.cloud.qdrant.io:6333/collections/default/index?wait=true \"HTTP/1.1 200 OK\"\n",
      "11:52:02 httpx INFO   HTTP Request: PUT https://bad13d43-afc8-44b5-8b37-2fa1eb4f0236.eu-west-1-0.aws.cloud.qdrant.io:6333/collections/default/index?wait=true \"HTTP/1.1 200 OK\"\n",
      "11:52:02 httpx INFO   HTTP Request: PUT https://bad13d43-afc8-44b5-8b37-2fa1eb4f0236.eu-west-1-0.aws.cloud.qdrant.io:6333/collections/default/index?wait=true \"HTTP/1.1 200 OK\"\n",
      "11:52:02 httpx INFO   HTTP Request: PUT https://bad13d43-afc8-44b5-8b37-2fa1eb4f0236.eu-west-1-0.aws.cloud.qdrant.io:6333/collections/default/index?wait=true \"HTTP/1.1 200 OK\"\n",
      "11:52:02 superlinked.framework.query.query_dag_evaluator INFO   initialized query dag\n",
      "11:52:02 superlinked.framework.online.online_dag_evaluator INFO   initialized entity dag\n",
      "11:52:02 superlinked.framework.dsl.executor.interactive.interactive_executor INFO   started interactive app\n"
     ]
    }
   ],
   "source": [
    "source = sl.InteractiveSource(recipe_schema)\n",
    "executor = sl.InteractiveExecutor(\n",
    "    sources=[source],\n",
    "    indices=[index],\n",
    "    vector_database=vector_database,\n",
    ")\n",
    "app = executor.run()"
   ]
  },
  {
   "cell_type": "code",
   "execution_count": 4,
   "metadata": {},
   "outputs": [
    {
     "name": "stdout",
     "output_type": "stream",
     "text": [
      "11:52:14 httpx INFO   HTTP Request: POST https://openrouter.ai/api/v1/chat/completions \"HTTP/1.1 200 OK\"\n",
      "11:52:18 sentence_transformers.SentenceTransformer INFO   Load pretrained SentenceTransformer: sentence-transformers/all-mpnet-base-v2\n"
     ]
    },
    {
     "name": "stderr",
     "output_type": "stream",
     "text": [
      "Batches: 100%|██████████| 1/1 [00:00<00:00,  1.24it/s]\n",
      "Batches: 100%|██████████| 1/1 [00:00<00:00, 30.86it/s]\n",
      "Batches: 100%|██████████| 1/1 [00:00<00:00, 32.83it/s]"
     ]
    },
    {
     "name": "stdout",
     "output_type": "stream",
     "text": [
      "11:52:22 superlinked.framework.query.query_dag_evaluator INFO   evaluated query\n"
     ]
    },
    {
     "name": "stderr",
     "output_type": "stream",
     "text": [
      "\n"
     ]
    },
    {
     "name": "stdout",
     "output_type": "stream",
     "text": [
      "11:52:22 httpx INFO   HTTP Request: POST https://bad13d43-afc8-44b5-8b37-2fa1eb4f0236.eu-west-1-0.aws.cloud.qdrant.io:6333/collections/default/points/query \"HTTP/1.1 200 OK\"\n",
      "11:52:22 superlinked.framework.dsl.executor.query.query_executor INFO   executed query\n",
      "{'name_query': 'quick dessert', 'similar_name_weight': 1.0, 'ingredients_query': 'chocolate', 'similar_ingredients_weight': 1.0, 'instructions_query': 'quick', 'similar_instructions_weight': 1.0, 'limit': 3, 'select_param__': ['Name', 'Ingredient_Names_Text', 'Instructions', 'Rating_Value', 'Preparation_Time', 'Cooking_Time', 'Category', 'Cuisine', 'Calories', 'Carbohydrates', 'Cholesterol', 'Fiber', 'Protein', 'Saturated_Fat', 'Sodium', 'Sugar', 'Fat', 'Unsaturated_Fat', 'Nutrition', 'Ingredients', 'URL'], 'min_rating': None, 'max_rating': None, 'min_prep_time': None, 'max_prep_time': 30.0, 'min_cook_time': None, 'max_cook_time': 30.0, 'max_calories': None, 'categories_include_all': None, 'categories_include_any': ['Dessert'], 'categories_exclude': [], 'cuisines_include_all': ['French'], 'cuisines_include_any': None, 'cuisines_exclude': [], 'natural_query': 'quick dessert with chocolate from French cuisine', 'system_prompt_param__': \"Extract search parameters from the user's natural language query about recipes.\\nGuidelines:\\n- Identify 'include' and 'exclude' attributes for ingredients, categories, and cuisines.\\n- Extract numeric preferences such as rating, preparation time, and cooking time.\\n- Consider nutrition preferences like 'low calorie', 'high protein', or dietary restrictions.\\n- If no preference is specified for a parameter, use None.\\n- Examples:\\n  1. User query: 'Quick vegan desserts with high rating' -> category: 'dessert', cuisine: None, ingredients include 'vegan', max prep time low, min rating high.\\n  2. User query: 'Gluten-free Italian main courses' -> cuisine: 'Italian', category: 'main course', exclude ingredients containing gluten.\\n  3. User query: 'Easy chicken recipes under 30 minutes' -> ingredients include 'chicken', max prep + cook time 30 mins.\\n\", 'radius_param__': None, 'name_weight': 1.0, 'ingredients_weight': 1.0, 'instructions_weight': 1.0, 'rating_weight': 0.0, 'prep_time_weight': -1.0, 'cook_time_weight': -1.0, 'space_weight_NumberSpace_fa96_param__': 0.0, 'space_weight_NumberSpace_fe1c_param__': 0.0}\n"
     ]
    },
    {
     "data": {
      "text/html": [
       "<div>\n",
       "<style scoped>\n",
       "    .dataframe tbody tr th:only-of-type {\n",
       "        vertical-align: middle;\n",
       "    }\n",
       "\n",
       "    .dataframe tbody tr th {\n",
       "        vertical-align: top;\n",
       "    }\n",
       "\n",
       "    .dataframe thead th {\n",
       "        text-align: right;\n",
       "    }\n",
       "</style>\n",
       "<table border=\"1\" class=\"dataframe\">\n",
       "  <thead>\n",
       "    <tr style=\"text-align: right;\">\n",
       "      <th></th>\n",
       "      <th>Name</th>\n",
       "      <th>Ingredient_Names_Text</th>\n",
       "      <th>Instructions</th>\n",
       "      <th>Rating_Value</th>\n",
       "      <th>Preparation_Time</th>\n",
       "      <th>Cooking_Time</th>\n",
       "      <th>Category</th>\n",
       "      <th>Cuisine</th>\n",
       "      <th>Calories</th>\n",
       "      <th>Carbohydrates</th>\n",
       "      <th>...</th>\n",
       "      <th>Saturated_Fat</th>\n",
       "      <th>Sodium</th>\n",
       "      <th>Sugar</th>\n",
       "      <th>Fat</th>\n",
       "      <th>Unsaturated_Fat</th>\n",
       "      <th>Nutrition</th>\n",
       "      <th>Ingredients</th>\n",
       "      <th>URL</th>\n",
       "      <th>id</th>\n",
       "      <th>similarity_score</th>\n",
       "    </tr>\n",
       "  </thead>\n",
       "  <tbody>\n",
       "    <tr>\n",
       "      <th>0</th>\n",
       "      <td>Creamy Chocolate Mousse Pie</td>\n",
       "      <td>miniature_marshmallows milk_chocolate_candy mi...</td>\n",
       "      <td>Heat marshmallows, bar chocolate, and milk in ...</td>\n",
       "      <td>4.8</td>\n",
       "      <td>20.0</td>\n",
       "      <td>10.0</td>\n",
       "      <td>[Dessert]</td>\n",
       "      <td>[French]</td>\n",
       "      <td>399.0</td>\n",
       "      <td>29.0</td>\n",
       "      <td>...</td>\n",
       "      <td>17.0</td>\n",
       "      <td>142.0</td>\n",
       "      <td>17.0</td>\n",
       "      <td>31.0</td>\n",
       "      <td>0.0</td>\n",
       "      <td>{\"Calories\": \"399 kcal\", \"Carbohydrates\": \"29 ...</td>\n",
       "      <td>[{'ingredient': 'miniature marshmallows', 'qua...</td>\n",
       "      <td>https://www.allrecipes.com/recipe/229164/cream...</td>\n",
       "      <td>rec122</td>\n",
       "      <td>-0.158571</td>\n",
       "    </tr>\n",
       "  </tbody>\n",
       "</table>\n",
       "<p>1 rows × 23 columns</p>\n",
       "</div>"
      ],
      "text/plain": [
       "                          Name  \\\n",
       "0  Creamy Chocolate Mousse Pie   \n",
       "\n",
       "                               Ingredient_Names_Text  \\\n",
       "0  miniature_marshmallows milk_chocolate_candy mi...   \n",
       "\n",
       "                                        Instructions  Rating_Value  \\\n",
       "0  Heat marshmallows, bar chocolate, and milk in ...           4.8   \n",
       "\n",
       "   Preparation_Time  Cooking_Time   Category   Cuisine  Calories  \\\n",
       "0              20.0          10.0  [Dessert]  [French]     399.0   \n",
       "\n",
       "   Carbohydrates  ...  Saturated_Fat  Sodium  Sugar   Fat  Unsaturated_Fat  \\\n",
       "0           29.0  ...           17.0   142.0   17.0  31.0              0.0   \n",
       "\n",
       "                                           Nutrition  \\\n",
       "0  {\"Calories\": \"399 kcal\", \"Carbohydrates\": \"29 ...   \n",
       "\n",
       "                                         Ingredients  \\\n",
       "0  [{'ingredient': 'miniature marshmallows', 'qua...   \n",
       "\n",
       "                                                 URL      id similarity_score  \n",
       "0  https://www.allrecipes.com/recipe/229164/cream...  rec122        -0.158571  \n",
       "\n",
       "[1 rows x 23 columns]"
      ]
     },
     "execution_count": 4,
     "metadata": {},
     "output_type": "execute_result"
    }
   ],
   "source": [
    "params = {\n",
    "    \"natural_query\": \"quick dessert with chocolate from French cuisine\",\n",
    "    \"limit\": 3,\n",
    "}\n",
    "\n",
    "result = app.query(query, **params)\n",
    "\n",
    "# sl.PandasConverter.to_pandas(result)\n",
    "# Print search parameters and convert results to pandas DataFrame\n",
    "# Show all rows\n",
    "\n",
    "print(result.metadata.search_params)\n",
    "df = sl.PandasConverter.to_pandas(result)\n",
    "df"
   ]
  },
  {
   "cell_type": "code",
   "execution_count": null,
   "metadata": {},
   "outputs": [],
   "source": [
    "rows = []\n",
    "\n",
    "space_names = [\"name\", \"ingredents\", \"instructions\", \"rating\", \"prep_time\", \"cooking_time\", \"calories\", \"protein\"]\n",
    "\n",
    "# order of spaces is the same as during index creation\n",
    "\n",
    "for entry in result.entries:\n",
    "    partial_scores = dict(zip(space_names, entry.metadata.partial_scores))\n",
    "    row = {\"id\": entry.id, **partial_scores}\n",
    "    rows.append(row)\n",
    "\n",
    "df = pd.DataFrame(rows)\n",
    "df"
   ]
  },
  {
   "cell_type": "code",
   "execution_count": null,
   "metadata": {},
   "outputs": [],
   "source": [
    "params = {\n",
    "    \"natural_query\": \"quick vegan dinner less than 370 calories from Indian cuisine\",\n",
    "    \"limit\": 3,\n",
    "}\n",
    "\n",
    "result = app.query(query, **params)\n",
    "\n",
    "# sl.PandasConverter.to_pandas(result)\n",
    "# Print search parameters and convert results to pandas DataFrame\n",
    "# Show all rows\n",
    "\n",
    "print(result.metadata.search_params)\n",
    "df = sl.PandasConverter.to_pandas(result)\n",
    "df"
   ]
  },
  {
   "cell_type": "code",
   "execution_count": null,
   "metadata": {},
   "outputs": [],
   "source": [
    "rows = []\n",
    "\n",
    "space_names = [\"name\", \"ingredents\", \"instructions\", \"rating\", \"prep_time\", \"cooking_time\", \"calories\", \"protein\"]\n",
    "\n",
    "# order of spaces is the same as during index creation\n",
    "\n",
    "for entry in result.entries:\n",
    "    partial_scores = dict(zip(space_names, entry.metadata.partial_scores))\n",
    "    row = {\"id\": entry.id, **partial_scores}\n",
    "    rows.append(row)\n",
    "\n",
    "df = pd.DataFrame(rows)\n",
    "df"
   ]
  },
  {
   "cell_type": "code",
   "execution_count": null,
   "metadata": {},
   "outputs": [],
   "source": [
    "params = {\n",
    "    \"natural_query\": \"quick dinner with onion less than 3070 calories and cooking time less than 40 minutes\",\n",
    "    \"limit\": 3,\n",
    "}\n",
    "\n",
    "result = app.query(query, **params)\n",
    "\n",
    "# sl.PandasConverter.to_pandas(result)\n",
    "# Print search parameters and convert results to pandas DataFrame\n",
    "# Show all rows\n",
    "\n",
    "print(result.metadata.search_params)\n",
    "df = sl.PandasConverter.to_pandas(result)\n",
    "df"
   ]
  },
  {
   "cell_type": "code",
   "execution_count": null,
   "metadata": {},
   "outputs": [],
   "source": [
    "rows = []\n",
    "\n",
    "space_names = [\"name\", \"ingredents\", \"instructions\", \"rating\", \"prep_time\", \"cooking_time\", \"calories\", \"protein\"]\n",
    "\n",
    "# order of spaces is the same as during index creation\n",
    "\n",
    "for entry in result.entries:\n",
    "    partial_scores = dict(zip(space_names, entry.metadata.partial_scores))\n",
    "    row = {\"id\": entry.id, **partial_scores}\n",
    "    rows.append(row)\n",
    "\n",
    "df = pd.DataFrame(rows)\n",
    "df"
   ]
  },
  {
   "cell_type": "markdown",
   "metadata": {},
   "source": [
    "### The following examples are with manual parameters"
   ]
  },
  {
   "cell_type": "code",
   "execution_count": null,
   "metadata": {},
   "outputs": [],
   "source": [
    "# Example manual query parameters \n",
    "params = {\n",
    "    \"name_query\": \"\",              # Text to search in recipe names\n",
    "    \"ingredients_query\": \"cream\", # Text to search in ingredients\n",
    "    \"instructions_query\": \"\",      # Text to search in instructions\n",
    "    \"limit\": 5,                                  # Number of results to return\n",
    "\n",
    "    # Weights for similarity spaces (adjust as needed)\n",
    "    \"name_weight\": 1.0,\n",
    "    \"ingredients_weight\": 1.0,\n",
    "    \"instructions_weight\": 0.0,\n",
    "\n",
    "    # Similarity weights (can be same as above or different)\n",
    "    \"similar_name_weight\": 1.0,\n",
    "    \"similar_ingredients_weight\": 1.0,\n",
    "    \"similar_instructions_weight\": 0.0,\n",
    "\n",
    "    # Numerical filters (set to None or appropriate values)\n",
    "    \"min_rating\": 0.0,\n",
    "    #\"max_rating\": 15.0,\n",
    "    \"min_prep_time\": 0.0,\n",
    "    \"max_prep_time\": 40.0,\n",
    "    \"min_cook_time\": 0.0,\n",
    "    \"max_cook_time\": 40.0,\n",
    "    #\"max_calories\": 400.0,\n",
    "\n",
    "    # Categorical filters (empty list or specify categories/cuisines)\n",
    "    # Remove or set to None to disable categories filtering\n",
    "    \"categories_include_any\": [\"Dessert\"],\n",
    "    #\"categories_exclude\": [],\n",
    "    # Remove or set to None to disable cuisine filtering\n",
    "    \"cuisines_include_any\": [\"French\"],\n",
    "    # \"cuisines_exclude\": [],\n",
    "}\n",
    "\n",
    "# Run the query with manual parameters\n",
    "result = app.query(query, **params)\n",
    "\n",
    "# Print search parameters and convert results to pandas DataFrame\n",
    "# Show all rows\n",
    "\n",
    "print(result.metadata.search_params)\n",
    "df = sl.PandasConverter.to_pandas(result)\n",
    "df\n"
   ]
  },
  {
   "cell_type": "code",
   "execution_count": null,
   "metadata": {},
   "outputs": [],
   "source": [
    "rows = []\n",
    "\n",
    "space_names = [\"name\", \"ingredents\", \"instructions\", \"rating\", \"prep_time\", \"cooking_time\", \"calories\", \"protein\"]\n",
    "\n",
    "# order of spaces is the same as during index creation\n",
    "\n",
    "for entry in result.entries:\n",
    "    partial_scores = dict(zip(space_names, entry.metadata.partial_scores))\n",
    "    row = {\"id\": entry.id, **partial_scores}\n",
    "    rows.append(row)\n",
    "\n",
    "df = pd.DataFrame(rows)\n",
    "df"
   ]
  },
  {
   "cell_type": "code",
   "execution_count": null,
   "metadata": {},
   "outputs": [],
   "source": [
    "# Example manual query parameters\n",
    "params = {\n",
    "    \"name_query\": \"Pizza\",              # Text to search in recipe names\n",
    "    \"ingredients_query\": \"greek_yogurt\", # Text to search in ingredients\n",
    "    \"instructions_query\": \"Preheat\",      # Text to search in instructions\n",
    "    \"limit\": 5,                                  # Number of results to return\n",
    "\n",
    "    # Weights for similarity spaces (adjust as needed)\n",
    "    \"name_weight\": 1.0,\n",
    "    \"ingredients_weight\": 1.0,\n",
    "    \"instructions_weight\": 1.0,\n",
    "\n",
    "    # Similarity weights (can be same as above or different)\n",
    "    \"similar_name_weight\": 1.0,\n",
    "    \"similar_ingredients_weight\": 1.0,\n",
    "    \"similar_instructions_weight\": 1.0,\n",
    "\n",
    "    # Numerical filters (set to None or appropriate values)\n",
    "    \"min_rating\": 4.0,\n",
    "    #\"max_rating\": 15.0,\n",
    "    \"min_prep_time\": 0.0,\n",
    "    \"max_prep_time\": 9000.0,\n",
    "    \"min_cook_time\": 0.0,\n",
    "    \"max_cook_time\": 1000.0,\n",
    "    \"max_calories\": 400.0,\n",
    "\n",
    "    # Categorical filters (empty list or specify categories/cuisines)\n",
    "    # Remove or set to None to disable categories filtering\n",
    "    #\"categories_include_any\": [\"Dinner\"],\n",
    "    #\"categories_exclude\": [],\n",
    "    # Remove or set to None to disable cuisine filtering\n",
    "    \"cuisines_include_any\": [\"Italian\"],\n",
    "    # \"cuisines_exclude\": [],\n",
    "}\n",
    "\n",
    "# Run the query with manual parameters\n",
    "result = app.query(query, **params)\n",
    "\n",
    "# Print search parameters and convert results to pandas DataFrame\n",
    "# Show all rows\n",
    "\n",
    "print(result.metadata.search_params)\n",
    "df = sl.PandasConverter.to_pandas(result)\n",
    "df\n"
   ]
  },
  {
   "cell_type": "code",
   "execution_count": null,
   "metadata": {},
   "outputs": [],
   "source": [
    "rows = []\n",
    "\n",
    "space_names = [\"name\", \"ingredents\", \"instructions\", \"rating\", \"prep_time\", \"cooking_time\", \"calories\", \"protein\"]\n",
    "\n",
    "# order of spaces is the same as during index creation\n",
    "\n",
    "for entry in result.entries:\n",
    "    partial_scores = dict(zip(space_names, entry.metadata.partial_scores))\n",
    "    row = {\"id\": entry.id, **partial_scores}\n",
    "    rows.append(row)\n",
    "\n",
    "df = pd.DataFrame(rows)\n",
    "df"
   ]
  },
  {
   "cell_type": "code",
   "execution_count": null,
   "metadata": {},
   "outputs": [],
   "source": [
    "# Example manual query parameters \n",
    "params = {\n",
    "    \"name_query\": \"pasta\",              # Text to search in recipe names\n",
    "    \"ingredients_query\": \"pasta\", # Text to search in ingredients\n",
    "    \"instructions_query\": \"\",      # Text to search in instructions\n",
    "    \"limit\": 5,                                  # Number of results to return\n",
    "\n",
    "    # Weights for similarity spaces (adjust as needed)\n",
    "    \"name_weight\": 1.0,\n",
    "    \"ingredients_weight\": 1.0,\n",
    "    \"instructions_weight\": 0.0,\n",
    "\n",
    "    # Similarity weights (can be same as above or different)\n",
    "    \"similar_name_weight\": 1.0,\n",
    "    \"similar_ingredients_weight\": 1.0,\n",
    "    \"similar_instructions_weight\": 0.0,\n",
    "\n",
    "    # Numerical filters (set to None or appropriate values)\n",
    "    \"min_rating\": 0.0,\n",
    "    #\"max_rating\": 15.0,\n",
    "    \"min_prep_time\": 0.0,\n",
    "    \"max_prep_time\": 40.0,\n",
    "    \"min_cook_time\": 0.0,\n",
    "    \"max_cook_time\": 40.0,\n",
    "    \"max_calories\": 500.0,\n",
    "\n",
    "    # Categorical filters (empty list or specify categories/cuisines)\n",
    "    # Remove or set to None to disable categories filtering\n",
    "    \"categories_include_any\": [\"Lunch\", \"Dinner\"],\n",
    "    #\"categories_exclude\": [],\n",
    "    # Remove or set to None to disable cuisine filtering\n",
    "    \"cuisines_include_any\": [\"Italian\"],\n",
    "    # \"cuisines_exclude\": [],\n",
    "}\n",
    "\n",
    "# Run the query with manual parameters\n",
    "result = app.query(query, **params)\n",
    "\n",
    "# Print search parameters and convert results to pandas DataFrame\n",
    "# Show all rows\n",
    "\n",
    "print(result.metadata.search_params)\n",
    "df = sl.PandasConverter.to_pandas(result)\n",
    "df\n"
   ]
  },
  {
   "cell_type": "code",
   "execution_count": null,
   "metadata": {},
   "outputs": [],
   "source": [
    "rows = []\n",
    "\n",
    "space_names = [\"name\", \"ingredents\", \"instructions\", \"rating\", \"prep_time\", \"cooking_time\", \"calories\", \"protein\"]\n",
    "\n",
    "# order of spaces is the same as during index creation\n",
    "\n",
    "for entry in result.entries:\n",
    "    partial_scores = dict(zip(space_names, entry.metadata.partial_scores))\n",
    "    row = {\"id\": entry.id, **partial_scores}\n",
    "    rows.append(row)\n",
    "\n",
    "df = pd.DataFrame(rows)\n",
    "df"
   ]
  }
 ],
 "metadata": {
  "kernelspec": {
   "display_name": ".venv",
   "language": "python",
   "name": "python3"
  },
  "language_info": {
   "codemirror_mode": {
    "name": "ipython",
    "version": 3
   },
   "file_extension": ".py",
   "mimetype": "text/x-python",
   "name": "python",
   "nbconvert_exporter": "python",
   "pygments_lexer": "ipython3",
   "version": "3.12.3"
  }
 },
 "nbformat": 4,
 "nbformat_minor": 4
}
