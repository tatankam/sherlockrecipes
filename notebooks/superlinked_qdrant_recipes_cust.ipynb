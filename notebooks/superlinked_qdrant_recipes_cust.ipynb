{
 "cells": [
  {
   "cell_type": "markdown",
   "metadata": {},
   "source": [
    "Run this notebook in the same virtual environment with superlinked server\n",
    "to ensure the same version of `superlinked` framework."
   ]
  },
  {
   "cell_type": "code",
   "execution_count": 1,
   "metadata": {},
   "outputs": [
    {
     "name": "stdout",
     "output_type": "stream",
     "text": [
      "superlinked==28.8.2\n",
      "superlinked-server==1.34.0\n"
     ]
    }
   ],
   "source": [
    "!pip freeze | grep superlinked"
   ]
  },
  {
   "cell_type": "code",
   "execution_count": null,
   "metadata": {},
   "outputs": [],
   "source": [
    "!pip install openai"
   ]
  },
  {
   "cell_type": "code",
   "execution_count": 2,
   "metadata": {},
   "outputs": [
    {
     "name": "stdout",
     "output_type": "stream",
     "text": [
      "project_dir is added to sys.path\n"
     ]
    }
   ],
   "source": [
    "from pathlib import Path\n",
    "import sys\n",
    "\n",
    "# depending on the user's setup\n",
    "# we will try to find the superlinked_app directory\n",
    "# and add it to the sys.path\n",
    "\n",
    "cwd = Path.cwd()\n",
    "if cwd.name == \"superlinked-recipes\":\n",
    "    project_dir = cwd / \"projects\" / \"recipe-search\"\n",
    "elif cwd.name == \"notebooks\":\n",
    "    project_dir = cwd.parent\n",
    "else:\n",
    "    project_dir = cwd\n",
    "\n",
    "superlinked_app_dir = project_dir / \"superlinked_app\"\n",
    "assert superlinked_app_dir.exists(), (\n",
    "    f\"{superlinked_app_dir} does not exist\\n\"\n",
    "    \"are you sure you are in the recipe-search/notebooks directory?\"\n",
    ")\n",
    "\n",
    "if str(project_dir) not in sys.path:\n",
    "    sys.path.append(str(project_dir))\n",
    "    print(\"project_dir is added to sys.path\")\n",
    "else:\n",
    "    print(\"project_dir is already in sys.path\")"
   ]
  },
  {
   "cell_type": "code",
   "execution_count": 3,
   "metadata": {},
   "outputs": [
    {
     "name": "stderr",
     "output_type": "stream",
     "text": [
      "/home/biso/development/my_projects/.venv/lib/python3.12/site-packages/tqdm/auto.py:21: TqdmWarning: IProgress not found. Please update jupyter and ipywidgets. See https://ipywidgets.readthedocs.io/en/stable/user_install.html\n",
      "  from .autonotebook import tqdm as notebook_tqdm\n"
     ]
    },
    {
     "ename": "ValidationError",
     "evalue": "1 validation error for Settings\napp_id\n  Extra inputs are not permitted [type=extra_forbidden, input_value='recipes', input_type=str]\n    For further information visit https://errors.pydantic.dev/2.11/v/extra_forbidden",
     "output_type": "error",
     "traceback": [
      "\u001b[31m---------------------------------------------------------------------------\u001b[39m",
      "\u001b[31mValidationError\u001b[39m                           Traceback (most recent call last)",
      "\u001b[36mCell\u001b[39m\u001b[36m \u001b[39m\u001b[32mIn[3]\u001b[39m\u001b[32m, line 3\u001b[39m\n\u001b[32m      1\u001b[39m \u001b[38;5;28;01mfrom\u001b[39;00m\u001b[38;5;250m \u001b[39m\u001b[34;01msuperlinked\u001b[39;00m\u001b[38;5;250m \u001b[39m\u001b[38;5;28;01mimport\u001b[39;00m framework \u001b[38;5;28;01mas\u001b[39;00m sl\n\u001b[32m----> \u001b[39m\u001b[32m3\u001b[39m \u001b[38;5;28;01mfrom\u001b[39;00m\u001b[38;5;250m \u001b[39m\u001b[34;01msuperlinked_app\u001b[39;00m\u001b[34;01m.\u001b[39;00m\u001b[34;01mindex\u001b[39;00m\u001b[38;5;250m \u001b[39m\u001b[38;5;28;01mimport\u001b[39;00m index, recipe_schema\n\u001b[32m      4\u001b[39m \u001b[38;5;28;01mfrom\u001b[39;00m\u001b[38;5;250m \u001b[39m\u001b[34;01msuperlinked_app\u001b[39;00m\u001b[34;01m.\u001b[39;00m\u001b[34;01mquery\u001b[39;00m\u001b[38;5;250m \u001b[39m\u001b[38;5;28;01mimport\u001b[39;00m query\n\u001b[32m      5\u001b[39m \u001b[38;5;28;01mfrom\u001b[39;00m\u001b[38;5;250m \u001b[39m\u001b[34;01msuperlinked_app\u001b[39;00m\u001b[34;01m.\u001b[39;00m\u001b[34;01mapi\u001b[39;00m\u001b[38;5;250m \u001b[39m\u001b[38;5;28;01mimport\u001b[39;00m vector_database\n",
      "\u001b[36mFile \u001b[39m\u001b[32m~/development/my_projects/varie/sherlockrecipes/superlinked_app/index.py:2\u001b[39m\n\u001b[32m      1\u001b[39m \u001b[38;5;28;01mfrom\u001b[39;00m\u001b[38;5;250m \u001b[39m\u001b[34;01msuperlinked\u001b[39;00m\u001b[38;5;250m \u001b[39m\u001b[38;5;28;01mimport\u001b[39;00m framework \u001b[38;5;28;01mas\u001b[39;00m sl\n\u001b[32m----> \u001b[39m\u001b[32m2\u001b[39m \u001b[38;5;28;01mfrom\u001b[39;00m\u001b[38;5;250m \u001b[39m\u001b[34;01msuperlinked_app\u001b[39;00m\u001b[34;01m.\u001b[39;00m\u001b[34;01mconfig\u001b[39;00m\u001b[38;5;250m \u001b[39m\u001b[38;5;28;01mimport\u001b[39;00m settings\n\u001b[32m      4\u001b[39m \u001b[38;5;129m@sl\u001b[39m.schema\n\u001b[32m      5\u001b[39m \u001b[38;5;28;01mclass\u001b[39;00m\u001b[38;5;250m \u001b[39m\u001b[34;01mRecipe\u001b[39;00m:\n\u001b[32m      6\u001b[39m     \u001b[38;5;66;03m# Obligatory field\u001b[39;00m\n\u001b[32m      7\u001b[39m     \u001b[38;5;28mid\u001b[39m: sl.IdField\n",
      "\u001b[36mFile \u001b[39m\u001b[32m~/development/my_projects/varie/sherlockrecipes/superlinked_app/config.py:32\u001b[39m\n\u001b[32m     28\u001b[39m     abs_path = os.path.abspath(rel_path)\n\u001b[32m     29\u001b[39m     \u001b[38;5;28;01mreturn\u001b[39;00m abs_path\n\u001b[32m---> \u001b[39m\u001b[32m32\u001b[39m settings = \u001b[43mSettings\u001b[49m\u001b[43m(\u001b[49m\u001b[43m_env_file\u001b[49m\u001b[43m=\u001b[49m\u001b[43mget_env_file_path\u001b[49m\u001b[43m(\u001b[49m\u001b[43m)\u001b[49m\u001b[43m)\u001b[49m\n",
      "\u001b[36mFile \u001b[39m\u001b[32m~/development/my_projects/.venv/lib/python3.12/site-packages/pydantic_settings/main.py:176\u001b[39m, in \u001b[36mBaseSettings.__init__\u001b[39m\u001b[34m(__pydantic_self__, _case_sensitive, _nested_model_default_partial_update, _env_prefix, _env_file, _env_file_encoding, _env_ignore_empty, _env_nested_delimiter, _env_nested_max_split, _env_parse_none_str, _env_parse_enums, _cli_prog_name, _cli_parse_args, _cli_settings_source, _cli_parse_none_str, _cli_hide_none_type, _cli_avoid_json, _cli_enforce_required, _cli_use_class_docs_for_groups, _cli_exit_on_error, _cli_prefix, _cli_flag_prefix_char, _cli_implicit_flags, _cli_ignore_unknown_args, _cli_kebab_case, _secrets_dir, **values)\u001b[39m\n\u001b[32m    147\u001b[39m \u001b[38;5;28;01mdef\u001b[39;00m\u001b[38;5;250m \u001b[39m\u001b[34m__init__\u001b[39m(\n\u001b[32m    148\u001b[39m     __pydantic_self__,\n\u001b[32m    149\u001b[39m     _case_sensitive: \u001b[38;5;28mbool\u001b[39m | \u001b[38;5;28;01mNone\u001b[39;00m = \u001b[38;5;28;01mNone\u001b[39;00m,\n\u001b[32m   (...)\u001b[39m\u001b[32m    174\u001b[39m     **values: Any,\n\u001b[32m    175\u001b[39m ) -> \u001b[38;5;28;01mNone\u001b[39;00m:\n\u001b[32m--> \u001b[39m\u001b[32m176\u001b[39m     \u001b[38;5;28;43msuper\u001b[39;49m\u001b[43m(\u001b[49m\u001b[43m)\u001b[49m\u001b[43m.\u001b[49m\u001b[34;43m__init__\u001b[39;49m\u001b[43m(\u001b[49m\n\u001b[32m    177\u001b[39m \u001b[43m        \u001b[49m\u001b[43m*\u001b[49m\u001b[43m*\u001b[49m\u001b[43m__pydantic_self__\u001b[49m\u001b[43m.\u001b[49m\u001b[43m_settings_build_values\u001b[49m\u001b[43m(\u001b[49m\n\u001b[32m    178\u001b[39m \u001b[43m            \u001b[49m\u001b[43mvalues\u001b[49m\u001b[43m,\u001b[49m\n\u001b[32m    179\u001b[39m \u001b[43m            \u001b[49m\u001b[43m_case_sensitive\u001b[49m\u001b[43m=\u001b[49m\u001b[43m_case_sensitive\u001b[49m\u001b[43m,\u001b[49m\n\u001b[32m    180\u001b[39m \u001b[43m            \u001b[49m\u001b[43m_nested_model_default_partial_update\u001b[49m\u001b[43m=\u001b[49m\u001b[43m_nested_model_default_partial_update\u001b[49m\u001b[43m,\u001b[49m\n\u001b[32m    181\u001b[39m \u001b[43m            \u001b[49m\u001b[43m_env_prefix\u001b[49m\u001b[43m=\u001b[49m\u001b[43m_env_prefix\u001b[49m\u001b[43m,\u001b[49m\n\u001b[32m    182\u001b[39m \u001b[43m            \u001b[49m\u001b[43m_env_file\u001b[49m\u001b[43m=\u001b[49m\u001b[43m_env_file\u001b[49m\u001b[43m,\u001b[49m\n\u001b[32m    183\u001b[39m \u001b[43m            \u001b[49m\u001b[43m_env_file_encoding\u001b[49m\u001b[43m=\u001b[49m\u001b[43m_env_file_encoding\u001b[49m\u001b[43m,\u001b[49m\n\u001b[32m    184\u001b[39m \u001b[43m            \u001b[49m\u001b[43m_env_ignore_empty\u001b[49m\u001b[43m=\u001b[49m\u001b[43m_env_ignore_empty\u001b[49m\u001b[43m,\u001b[49m\n\u001b[32m    185\u001b[39m \u001b[43m            \u001b[49m\u001b[43m_env_nested_delimiter\u001b[49m\u001b[43m=\u001b[49m\u001b[43m_env_nested_delimiter\u001b[49m\u001b[43m,\u001b[49m\n\u001b[32m    186\u001b[39m \u001b[43m            \u001b[49m\u001b[43m_env_nested_max_split\u001b[49m\u001b[43m=\u001b[49m\u001b[43m_env_nested_max_split\u001b[49m\u001b[43m,\u001b[49m\n\u001b[32m    187\u001b[39m \u001b[43m            \u001b[49m\u001b[43m_env_parse_none_str\u001b[49m\u001b[43m=\u001b[49m\u001b[43m_env_parse_none_str\u001b[49m\u001b[43m,\u001b[49m\n\u001b[32m    188\u001b[39m \u001b[43m            \u001b[49m\u001b[43m_env_parse_enums\u001b[49m\u001b[43m=\u001b[49m\u001b[43m_env_parse_enums\u001b[49m\u001b[43m,\u001b[49m\n\u001b[32m    189\u001b[39m \u001b[43m            \u001b[49m\u001b[43m_cli_prog_name\u001b[49m\u001b[43m=\u001b[49m\u001b[43m_cli_prog_name\u001b[49m\u001b[43m,\u001b[49m\n\u001b[32m    190\u001b[39m \u001b[43m            \u001b[49m\u001b[43m_cli_parse_args\u001b[49m\u001b[43m=\u001b[49m\u001b[43m_cli_parse_args\u001b[49m\u001b[43m,\u001b[49m\n\u001b[32m    191\u001b[39m \u001b[43m            \u001b[49m\u001b[43m_cli_settings_source\u001b[49m\u001b[43m=\u001b[49m\u001b[43m_cli_settings_source\u001b[49m\u001b[43m,\u001b[49m\n\u001b[32m    192\u001b[39m \u001b[43m            \u001b[49m\u001b[43m_cli_parse_none_str\u001b[49m\u001b[43m=\u001b[49m\u001b[43m_cli_parse_none_str\u001b[49m\u001b[43m,\u001b[49m\n\u001b[32m    193\u001b[39m \u001b[43m            \u001b[49m\u001b[43m_cli_hide_none_type\u001b[49m\u001b[43m=\u001b[49m\u001b[43m_cli_hide_none_type\u001b[49m\u001b[43m,\u001b[49m\n\u001b[32m    194\u001b[39m \u001b[43m            \u001b[49m\u001b[43m_cli_avoid_json\u001b[49m\u001b[43m=\u001b[49m\u001b[43m_cli_avoid_json\u001b[49m\u001b[43m,\u001b[49m\n\u001b[32m    195\u001b[39m \u001b[43m            \u001b[49m\u001b[43m_cli_enforce_required\u001b[49m\u001b[43m=\u001b[49m\u001b[43m_cli_enforce_required\u001b[49m\u001b[43m,\u001b[49m\n\u001b[32m    196\u001b[39m \u001b[43m            \u001b[49m\u001b[43m_cli_use_class_docs_for_groups\u001b[49m\u001b[43m=\u001b[49m\u001b[43m_cli_use_class_docs_for_groups\u001b[49m\u001b[43m,\u001b[49m\n\u001b[32m    197\u001b[39m \u001b[43m            \u001b[49m\u001b[43m_cli_exit_on_error\u001b[49m\u001b[43m=\u001b[49m\u001b[43m_cli_exit_on_error\u001b[49m\u001b[43m,\u001b[49m\n\u001b[32m    198\u001b[39m \u001b[43m            \u001b[49m\u001b[43m_cli_prefix\u001b[49m\u001b[43m=\u001b[49m\u001b[43m_cli_prefix\u001b[49m\u001b[43m,\u001b[49m\n\u001b[32m    199\u001b[39m \u001b[43m            \u001b[49m\u001b[43m_cli_flag_prefix_char\u001b[49m\u001b[43m=\u001b[49m\u001b[43m_cli_flag_prefix_char\u001b[49m\u001b[43m,\u001b[49m\n\u001b[32m    200\u001b[39m \u001b[43m            \u001b[49m\u001b[43m_cli_implicit_flags\u001b[49m\u001b[43m=\u001b[49m\u001b[43m_cli_implicit_flags\u001b[49m\u001b[43m,\u001b[49m\n\u001b[32m    201\u001b[39m \u001b[43m            \u001b[49m\u001b[43m_cli_ignore_unknown_args\u001b[49m\u001b[43m=\u001b[49m\u001b[43m_cli_ignore_unknown_args\u001b[49m\u001b[43m,\u001b[49m\n\u001b[32m    202\u001b[39m \u001b[43m            \u001b[49m\u001b[43m_cli_kebab_case\u001b[49m\u001b[43m=\u001b[49m\u001b[43m_cli_kebab_case\u001b[49m\u001b[43m,\u001b[49m\n\u001b[32m    203\u001b[39m \u001b[43m            \u001b[49m\u001b[43m_secrets_dir\u001b[49m\u001b[43m=\u001b[49m\u001b[43m_secrets_dir\u001b[49m\u001b[43m,\u001b[49m\n\u001b[32m    204\u001b[39m \u001b[43m        \u001b[49m\u001b[43m)\u001b[49m\n\u001b[32m    205\u001b[39m \u001b[43m    \u001b[49m\u001b[43m)\u001b[49m\n",
      "\u001b[36mFile \u001b[39m\u001b[32m~/development/my_projects/.venv/lib/python3.12/site-packages/pydantic/main.py:253\u001b[39m, in \u001b[36mBaseModel.__init__\u001b[39m\u001b[34m(self, **data)\u001b[39m\n\u001b[32m    251\u001b[39m \u001b[38;5;66;03m# `__tracebackhide__` tells pytest and some other tools to omit this function from tracebacks\u001b[39;00m\n\u001b[32m    252\u001b[39m __tracebackhide__ = \u001b[38;5;28;01mTrue\u001b[39;00m\n\u001b[32m--> \u001b[39m\u001b[32m253\u001b[39m validated_self = \u001b[38;5;28;43mself\u001b[39;49m\u001b[43m.\u001b[49m\u001b[43m__pydantic_validator__\u001b[49m\u001b[43m.\u001b[49m\u001b[43mvalidate_python\u001b[49m\u001b[43m(\u001b[49m\u001b[43mdata\u001b[49m\u001b[43m,\u001b[49m\u001b[43m \u001b[49m\u001b[43mself_instance\u001b[49m\u001b[43m=\u001b[49m\u001b[38;5;28;43mself\u001b[39;49m\u001b[43m)\u001b[49m\n\u001b[32m    254\u001b[39m \u001b[38;5;28;01mif\u001b[39;00m \u001b[38;5;28mself\u001b[39m \u001b[38;5;129;01mis\u001b[39;00m \u001b[38;5;129;01mnot\u001b[39;00m validated_self:\n\u001b[32m    255\u001b[39m     warnings.warn(\n\u001b[32m    256\u001b[39m         \u001b[33m'\u001b[39m\u001b[33mA custom validator is returning a value other than `self`.\u001b[39m\u001b[38;5;130;01m\\n\u001b[39;00m\u001b[33m'\u001b[39m\n\u001b[32m    257\u001b[39m         \u001b[33m\"\u001b[39m\u001b[33mReturning anything other than `self` from a top level model validator isn\u001b[39m\u001b[33m'\u001b[39m\u001b[33mt supported when validating via `__init__`.\u001b[39m\u001b[38;5;130;01m\\n\u001b[39;00m\u001b[33m\"\u001b[39m\n\u001b[32m    258\u001b[39m         \u001b[33m'\u001b[39m\u001b[33mSee the `model_validator` docs (https://docs.pydantic.dev/latest/concepts/validators/#model-validators) for more details.\u001b[39m\u001b[33m'\u001b[39m,\n\u001b[32m    259\u001b[39m         stacklevel=\u001b[32m2\u001b[39m,\n\u001b[32m    260\u001b[39m     )\n",
      "\u001b[31mValidationError\u001b[39m: 1 validation error for Settings\napp_id\n  Extra inputs are not permitted [type=extra_forbidden, input_value='recipes', input_type=str]\n    For further information visit https://errors.pydantic.dev/2.11/v/extra_forbidden"
     ]
    }
   ],
   "source": [
    "from superlinked import framework as sl\n",
    "\n",
    "from superlinked_app.index import index, recipe_schema\n",
    "from superlinked_app.query import query\n",
    "from superlinked_app.api import vector_database\n",
    "\n",
    "from superlinked_app.search_cust import run_search  # Your new NLQ + query pipeline\n",
    "\n",
    "import pandas as pd"
   ]
  },
  {
   "cell_type": "code",
   "execution_count": null,
   "metadata": {},
   "outputs": [
    {
     "name": "stdout",
     "output_type": "stream",
     "text": [
      "21:07:43 httpx INFO   HTTP Request: GET https://bad13d43-afc8-44b5-8b37-2fa1eb4f0236.eu-west-1-0.aws.cloud.qdrant.io:6333 \"HTTP/1.1 200 OK\"\n",
      "21:07:43 httpx INFO   HTTP Request: GET https://bad13d43-afc8-44b5-8b37-2fa1eb4f0236.eu-west-1-0.aws.cloud.qdrant.io:6333/collections/default/exists \"HTTP/1.1 200 OK\"\n",
      "21:07:43 httpx INFO   HTTP Request: GET https://bad13d43-afc8-44b5-8b37-2fa1eb4f0236.eu-west-1-0.aws.cloud.qdrant.io:6333/collections/default \"HTTP/1.1 200 OK\"\n",
      "21:07:43 httpx INFO   HTTP Request: PUT https://bad13d43-afc8-44b5-8b37-2fa1eb4f0236.eu-west-1-0.aws.cloud.qdrant.io:6333/collections/default/index?wait=true \"HTTP/1.1 200 OK\"\n",
      "21:07:43 httpx INFO   HTTP Request: PUT https://bad13d43-afc8-44b5-8b37-2fa1eb4f0236.eu-west-1-0.aws.cloud.qdrant.io:6333/collections/default/index?wait=true \"HTTP/1.1 200 OK\"\n",
      "21:07:43 httpx INFO   HTTP Request: PUT https://bad13d43-afc8-44b5-8b37-2fa1eb4f0236.eu-west-1-0.aws.cloud.qdrant.io:6333/collections/default/index?wait=true \"HTTP/1.1 200 OK\"\n",
      "21:07:43 httpx INFO   HTTP Request: PUT https://bad13d43-afc8-44b5-8b37-2fa1eb4f0236.eu-west-1-0.aws.cloud.qdrant.io:6333/collections/default/index?wait=true \"HTTP/1.1 200 OK\"\n",
      "21:07:43 httpx INFO   HTTP Request: PUT https://bad13d43-afc8-44b5-8b37-2fa1eb4f0236.eu-west-1-0.aws.cloud.qdrant.io:6333/collections/default/index?wait=true \"HTTP/1.1 200 OK\"\n",
      "21:07:44 httpx INFO   HTTP Request: PUT https://bad13d43-afc8-44b5-8b37-2fa1eb4f0236.eu-west-1-0.aws.cloud.qdrant.io:6333/collections/default/index?wait=true \"HTTP/1.1 200 OK\"\n",
      "21:07:44 httpx INFO   HTTP Request: PUT https://bad13d43-afc8-44b5-8b37-2fa1eb4f0236.eu-west-1-0.aws.cloud.qdrant.io:6333/collections/default/index?wait=true \"HTTP/1.1 200 OK\"\n",
      "21:07:44 httpx INFO   HTTP Request: PUT https://bad13d43-afc8-44b5-8b37-2fa1eb4f0236.eu-west-1-0.aws.cloud.qdrant.io:6333/collections/default/index?wait=true \"HTTP/1.1 200 OK\"\n",
      "21:07:44 httpx INFO   HTTP Request: PUT https://bad13d43-afc8-44b5-8b37-2fa1eb4f0236.eu-west-1-0.aws.cloud.qdrant.io:6333/collections/default/index?wait=true \"HTTP/1.1 200 OK\"\n",
      "21:07:44 httpx INFO   HTTP Request: PUT https://bad13d43-afc8-44b5-8b37-2fa1eb4f0236.eu-west-1-0.aws.cloud.qdrant.io:6333/collections/default/index?wait=true \"HTTP/1.1 200 OK\"\n",
      "21:07:44 httpx INFO   HTTP Request: PUT https://bad13d43-afc8-44b5-8b37-2fa1eb4f0236.eu-west-1-0.aws.cloud.qdrant.io:6333/collections/default/index?wait=true \"HTTP/1.1 200 OK\"\n",
      "21:07:44 httpx INFO   HTTP Request: PUT https://bad13d43-afc8-44b5-8b37-2fa1eb4f0236.eu-west-1-0.aws.cloud.qdrant.io:6333/collections/default/index?wait=true \"HTTP/1.1 200 OK\"\n",
      "21:07:44 httpx INFO   HTTP Request: PUT https://bad13d43-afc8-44b5-8b37-2fa1eb4f0236.eu-west-1-0.aws.cloud.qdrant.io:6333/collections/default/index?wait=true \"HTTP/1.1 200 OK\"\n",
      "21:07:44 httpx INFO   HTTP Request: PUT https://bad13d43-afc8-44b5-8b37-2fa1eb4f0236.eu-west-1-0.aws.cloud.qdrant.io:6333/collections/default/index?wait=true \"HTTP/1.1 200 OK\"\n",
      "21:07:45 httpx INFO   HTTP Request: PUT https://bad13d43-afc8-44b5-8b37-2fa1eb4f0236.eu-west-1-0.aws.cloud.qdrant.io:6333/collections/default/index?wait=true \"HTTP/1.1 200 OK\"\n",
      "21:07:45 httpx INFO   HTTP Request: PUT https://bad13d43-afc8-44b5-8b37-2fa1eb4f0236.eu-west-1-0.aws.cloud.qdrant.io:6333/collections/default/index?wait=true \"HTTP/1.1 200 OK\"\n",
      "21:07:45 httpx INFO   HTTP Request: PUT https://bad13d43-afc8-44b5-8b37-2fa1eb4f0236.eu-west-1-0.aws.cloud.qdrant.io:6333/collections/default/index?wait=true \"HTTP/1.1 200 OK\"\n",
      "21:07:45 httpx INFO   HTTP Request: PUT https://bad13d43-afc8-44b5-8b37-2fa1eb4f0236.eu-west-1-0.aws.cloud.qdrant.io:6333/collections/default/index?wait=true \"HTTP/1.1 200 OK\"\n",
      "21:07:46 httpx INFO   HTTP Request: PUT https://bad13d43-afc8-44b5-8b37-2fa1eb4f0236.eu-west-1-0.aws.cloud.qdrant.io:6333/collections/default/index?wait=true \"HTTP/1.1 200 OK\"\n",
      "21:07:46 superlinked.framework.query.query_dag_evaluator INFO   initialized query dag\n",
      "21:07:46 superlinked.framework.online.online_dag_evaluator INFO   initialized entity dag\n",
      "21:07:46 superlinked.framework.dsl.executor.interactive.interactive_executor INFO   started interactive app\n"
     ]
    }
   ],
   "source": [
    "source = sl.InteractiveSource(recipe_schema)\n",
    "executor = sl.InteractiveExecutor(\n",
    "    sources=[source],\n",
    "    indices=[index],\n",
    "    vector_database=vector_database,\n",
    ")\n",
    "app = executor.run()"
   ]
  },
  {
   "cell_type": "markdown",
   "metadata": {},
   "source": []
  },
  {
   "cell_type": "markdown",
   "metadata": {},
   "source": [
    "### The following examples are with custom openai base_url parameters\n",
    "#### Setting openrouter and qwen-2.5-72b and it works"
   ]
  },
  {
   "cell_type": "code",
   "execution_count": null,
   "metadata": {},
   "outputs": [
    {
     "name": "stdout",
     "output_type": "stream",
     "text": [
      "21:07:48 httpx INFO   HTTP Request: POST https://openrouter.ai/api/v1/chat/completions \"HTTP/1.1 200 OK\"\n",
      "Extracted parameters: {'name_query': 'trofie', 'ingredients_query': None, 'instructions_query': None, 'min_rating': None, 'max_rating': None, 'min_prep_time': None, 'max_prep_time': 45, 'min_cook_time': None, 'max_cook_time': None, 'max_calories': None, 'categories_include_all': ['dinner'], 'categories_include_any': None, 'categories_exclude': None, 'cuisines_include_all': ['Italian'], 'cuisines_include_any': None, 'cuisines_exclude': None, 'limit': None}\n",
      "21:07:50 sentence_transformers.SentenceTransformer INFO   Load pretrained SentenceTransformer: sentence-transformers/all-mpnet-base-v2\n"
     ]
    },
    {
     "name": "stderr",
     "output_type": "stream",
     "text": [
      "Batches: 100%|██████████| 1/1 [00:00<00:00,  3.78it/s]"
     ]
    },
    {
     "name": "stdout",
     "output_type": "stream",
     "text": [
      "21:07:52 superlinked.framework.query.query_dag_evaluator INFO   evaluated query\n"
     ]
    },
    {
     "name": "stderr",
     "output_type": "stream",
     "text": [
      "\n"
     ]
    },
    {
     "name": "stdout",
     "output_type": "stream",
     "text": [
      "21:07:52 httpx INFO   HTTP Request: POST https://bad13d43-afc8-44b5-8b37-2fa1eb4f0236.eu-west-1-0.aws.cloud.qdrant.io:6333/collections/default/points/query \"HTTP/1.1 200 OK\"\n",
      "21:07:52 superlinked.framework.dsl.executor.query.query_executor INFO   executed query\n",
      "{'similar_filter_TextSimilaritySpace_ec64_Recipe_Name_value_param__': 'trofie', 'similar_filter_TextSimilaritySpace_ec64_Recipe_Name_weight_param__': 1.0, 'hard_filter_Preparation_Time_be_less_than_or_equal_to_param__': 45.0, 'hard_filter_Category_contain_all_of_param__': ['Dinner'], 'hard_filter_Cuisine_contain_all_of_param__': ['Italian'], 'limit_param__': 3, 'select_param__': ['Name', 'Ingredient_Names_Text', 'Instructions', 'Rating_Value', 'Preparation_Time', 'Cooking_Time', 'Category', 'Cuisine', 'Calories', 'Carbohydrates', 'Cholesterol', 'Fiber', 'Protein', 'Saturated_Fat', 'Sodium', 'Sugar', 'Fat', 'Unsaturated_Fat', 'Nutrition', 'Ingredients', 'URL'], 'radius_param__': None, 'space_weight_TextSimilaritySpace_ec64_param__': 1.0, 'space_weight_TextSimilaritySpace_b35f_param__': 1.0, 'space_weight_TextSimilaritySpace_2c3a_param__': 1.0, 'space_weight_NumberSpace_71d9_param__': 1.0, 'space_weight_NumberSpace_5523_param__': 1.0, 'space_weight_NumberSpace_8979_param__': 1.0, 'space_weight_NumberSpace_55eb_param__': None, 'space_weight_NumberSpace_2133_param__': None}\n"
     ]
    },
    {
     "data": {
      "text/html": [
       "<div>\n",
       "<style scoped>\n",
       "    .dataframe tbody tr th:only-of-type {\n",
       "        vertical-align: middle;\n",
       "    }\n",
       "\n",
       "    .dataframe tbody tr th {\n",
       "        vertical-align: top;\n",
       "    }\n",
       "\n",
       "    .dataframe thead th {\n",
       "        text-align: right;\n",
       "    }\n",
       "</style>\n",
       "<table border=\"1\" class=\"dataframe\">\n",
       "  <thead>\n",
       "    <tr style=\"text-align: right;\">\n",
       "      <th></th>\n",
       "      <th>Name</th>\n",
       "      <th>Ingredient_Names_Text</th>\n",
       "      <th>Instructions</th>\n",
       "      <th>Rating_Value</th>\n",
       "      <th>Preparation_Time</th>\n",
       "      <th>Cooking_Time</th>\n",
       "      <th>Category</th>\n",
       "      <th>Cuisine</th>\n",
       "      <th>Calories</th>\n",
       "      <th>Carbohydrates</th>\n",
       "      <th>...</th>\n",
       "      <th>Saturated_Fat</th>\n",
       "      <th>Sodium</th>\n",
       "      <th>Sugar</th>\n",
       "      <th>Fat</th>\n",
       "      <th>Unsaturated_Fat</th>\n",
       "      <th>Nutrition</th>\n",
       "      <th>Ingredients</th>\n",
       "      <th>URL</th>\n",
       "      <th>id</th>\n",
       "      <th>similarity_score</th>\n",
       "    </tr>\n",
       "  </thead>\n",
       "  <tbody>\n",
       "    <tr>\n",
       "      <th>0</th>\n",
       "      <td>Two-Ingredient Pizza Dough</td>\n",
       "      <td>self-rising_flour greek_yogurt spray</td>\n",
       "      <td>Gather all ingredients. Preheat the oven to 50...</td>\n",
       "      <td>4.6</td>\n",
       "      <td>15.0</td>\n",
       "      <td>10.0</td>\n",
       "      <td>[Dinner]</td>\n",
       "      <td>[Italian]</td>\n",
       "      <td>116.0</td>\n",
       "      <td>18.0</td>\n",
       "      <td>...</td>\n",
       "      <td>1.0</td>\n",
       "      <td>314.0</td>\n",
       "      <td>1.0</td>\n",
       "      <td>3.0</td>\n",
       "      <td>0.0</td>\n",
       "      <td>{\"Calories\": \"116 kcal\", \"Carbohydrates\": \"18 ...</td>\n",
       "      <td>[{'ingredient': 'self-rising flour', 'quantity...</td>\n",
       "      <td>https://www.allrecipes.com/recipe/244447/two-i...</td>\n",
       "      <td>rec136</td>\n",
       "      <td>0.766729</td>\n",
       "    </tr>\n",
       "    <tr>\n",
       "      <th>1</th>\n",
       "      <td>Trofie alla Genovese</td>\n",
       "      <td>pine_nuts basil parmesan_cheese extra-virgin_o...</td>\n",
       "      <td>Start by making the pesto: Heat a dry pan over...</td>\n",
       "      <td>0.0</td>\n",
       "      <td>20.0</td>\n",
       "      <td>40.0</td>\n",
       "      <td>[Dinner]</td>\n",
       "      <td>[Italian]</td>\n",
       "      <td>470.0</td>\n",
       "      <td>26.0</td>\n",
       "      <td>...</td>\n",
       "      <td>7.0</td>\n",
       "      <td>437.0</td>\n",
       "      <td>2.0</td>\n",
       "      <td>38.0</td>\n",
       "      <td>0.0</td>\n",
       "      <td>{\"Calories\": \"470 kcal\", \"Carbohydrates\": \"26 ...</td>\n",
       "      <td>[{'ingredient': 'pine nuts', 'quantity': '0.33...</td>\n",
       "      <td>https://www.allrecipes.com/recipe/284486/trofi...</td>\n",
       "      <td>rec217</td>\n",
       "      <td>0.597015</td>\n",
       "    </tr>\n",
       "  </tbody>\n",
       "</table>\n",
       "<p>2 rows × 23 columns</p>\n",
       "</div>"
      ],
      "text/plain": [
       "                         Name  \\\n",
       "0  Two-Ingredient Pizza Dough   \n",
       "1        Trofie alla Genovese   \n",
       "\n",
       "                               Ingredient_Names_Text  \\\n",
       "0               self-rising_flour greek_yogurt spray   \n",
       "1  pine_nuts basil parmesan_cheese extra-virgin_o...   \n",
       "\n",
       "                                        Instructions  Rating_Value  \\\n",
       "0  Gather all ingredients. Preheat the oven to 50...           4.6   \n",
       "1  Start by making the pesto: Heat a dry pan over...           0.0   \n",
       "\n",
       "   Preparation_Time  Cooking_Time  Category    Cuisine  Calories  \\\n",
       "0              15.0          10.0  [Dinner]  [Italian]     116.0   \n",
       "1              20.0          40.0  [Dinner]  [Italian]     470.0   \n",
       "\n",
       "   Carbohydrates  ...  Saturated_Fat  Sodium  Sugar   Fat  Unsaturated_Fat  \\\n",
       "0           18.0  ...            1.0   314.0    1.0   3.0              0.0   \n",
       "1           26.0  ...            7.0   437.0    2.0  38.0              0.0   \n",
       "\n",
       "                                           Nutrition  \\\n",
       "0  {\"Calories\": \"116 kcal\", \"Carbohydrates\": \"18 ...   \n",
       "1  {\"Calories\": \"470 kcal\", \"Carbohydrates\": \"26 ...   \n",
       "\n",
       "                                         Ingredients  \\\n",
       "0  [{'ingredient': 'self-rising flour', 'quantity...   \n",
       "1  [{'ingredient': 'pine nuts', 'quantity': '0.33...   \n",
       "\n",
       "                                                 URL      id similarity_score  \n",
       "0  https://www.allrecipes.com/recipe/244447/two-i...  rec136         0.766729  \n",
       "1  https://www.allrecipes.com/recipe/284486/trofi...  rec217         0.597015  \n",
       "\n",
       "[2 rows x 23 columns]"
      ]
     },
     "execution_count": 4,
     "metadata": {},
     "output_type": "execute_result"
    }
   ],
   "source": [
    "params = {\n",
    "    \"cust_natural_query\": \"trofie from italian cuisine, to prepare a dinner and with preparation time lower than 45 minutes\",\n",
    "    \"limit\": 3,\n",
    "}\n",
    "\n",
    "# Use your run_search function to handle NLQ and querying\n",
    "result = run_search(params[\"cust_natural_query\"], app, limit=params.get(\"limit\", 5))\n",
    "\n",
    "# Print search parameters and convert results to pandas DataFrame\n",
    "print(getattr(result.metadata, \"search_params\", \"No search_params metadata\"))\n",
    "df = sl.PandasConverter.to_pandas(result)\n",
    "df"
   ]
  },
  {
   "cell_type": "code",
   "execution_count": null,
   "metadata": {},
   "outputs": [
    {
     "data": {
      "text/html": [
       "<div>\n",
       "<style scoped>\n",
       "    .dataframe tbody tr th:only-of-type {\n",
       "        vertical-align: middle;\n",
       "    }\n",
       "\n",
       "    .dataframe tbody tr th {\n",
       "        vertical-align: top;\n",
       "    }\n",
       "\n",
       "    .dataframe thead th {\n",
       "        text-align: right;\n",
       "    }\n",
       "</style>\n",
       "<table border=\"1\" class=\"dataframe\">\n",
       "  <thead>\n",
       "    <tr style=\"text-align: right;\">\n",
       "      <th></th>\n",
       "      <th>id</th>\n",
       "      <th>name</th>\n",
       "      <th>ingredents</th>\n",
       "      <th>instructions</th>\n",
       "      <th>rating</th>\n",
       "      <th>prep_time</th>\n",
       "      <th>cooking_time</th>\n",
       "      <th>calories</th>\n",
       "      <th>protein</th>\n",
       "    </tr>\n",
       "  </thead>\n",
       "  <tbody>\n",
       "    <tr>\n",
       "      <th>0</th>\n",
       "      <td>rec136</td>\n",
       "      <td>0.019882</td>\n",
       "      <td>0.0</td>\n",
       "      <td>0.0</td>\n",
       "      <td>0.248047</td>\n",
       "      <td>0.249268</td>\n",
       "      <td>0.249634</td>\n",
       "      <td>0.0</td>\n",
       "      <td>0.0</td>\n",
       "    </tr>\n",
       "    <tr>\n",
       "      <th>1</th>\n",
       "      <td>rec217</td>\n",
       "      <td>0.103882</td>\n",
       "      <td>0.0</td>\n",
       "      <td>0.0</td>\n",
       "      <td>0.000000</td>\n",
       "      <td>0.248535</td>\n",
       "      <td>0.244629</td>\n",
       "      <td>0.0</td>\n",
       "      <td>0.0</td>\n",
       "    </tr>\n",
       "  </tbody>\n",
       "</table>\n",
       "</div>"
      ],
      "text/plain": [
       "       id      name  ingredents  instructions    rating  prep_time  \\\n",
       "0  rec136  0.019882         0.0           0.0  0.248047   0.249268   \n",
       "1  rec217  0.103882         0.0           0.0  0.000000   0.248535   \n",
       "\n",
       "   cooking_time  calories  protein  \n",
       "0      0.249634       0.0      0.0  \n",
       "1      0.244629       0.0      0.0  "
      ]
     },
     "execution_count": 5,
     "metadata": {},
     "output_type": "execute_result"
    }
   ],
   "source": [
    "rows = []\n",
    "\n",
    "space_names = [\"name\", \"ingredents\", \"instructions\", \"rating\", \"prep_time\", \"cooking_time\", \"calories\", \"protein\"]\n",
    "\n",
    "# order of spaces is the same as during index creation\n",
    "\n",
    "for entry in result.entries:\n",
    "    partial_scores = dict(zip(space_names, entry.metadata.partial_scores))\n",
    "    row = {\"id\": entry.id, **partial_scores}\n",
    "    rows.append(row)\n",
    "\n",
    "df = pd.DataFrame(rows)\n",
    "df"
   ]
  },
  {
   "cell_type": "code",
   "execution_count": null,
   "metadata": {},
   "outputs": [
    {
     "name": "stdout",
     "output_type": "stream",
     "text": [
      "21:07:54 httpx INFO   HTTP Request: POST https://openrouter.ai/api/v1/chat/completions \"HTTP/1.1 200 OK\"\n",
      "Extracted parameters: {'name_query': None, 'ingredients_query': 'eggs', 'instructions_query': None, 'min_rating': None, 'max_rating': None, 'min_prep_time': None, 'max_prep_time': 30, 'min_cook_time': None, 'max_cook_time': None, 'max_calories': 200, 'categories_include_all': ['breakfast'], 'categories_include_any': None, 'categories_exclude': None, 'cuisines_include_all': ['German'], 'cuisines_include_any': None, 'cuisines_exclude': None, 'limit': None}\n"
     ]
    },
    {
     "name": "stderr",
     "output_type": "stream",
     "text": [
      "Batches: 100%|██████████| 1/1 [00:00<00:00, 31.90it/s]"
     ]
    },
    {
     "name": "stdout",
     "output_type": "stream",
     "text": [
      "21:07:56 superlinked.framework.query.query_dag_evaluator INFO   evaluated query\n",
      "21:07:56 httpx INFO   HTTP Request: POST https://bad13d43-afc8-44b5-8b37-2fa1eb4f0236.eu-west-1-0.aws.cloud.qdrant.io:6333/collections/default/points/query \"HTTP/1.1 200 OK\"\n"
     ]
    },
    {
     "name": "stderr",
     "output_type": "stream",
     "text": [
      "\n"
     ]
    },
    {
     "name": "stdout",
     "output_type": "stream",
     "text": [
      "21:07:57 superlinked.framework.dsl.executor.query.query_executor INFO   executed query\n",
      "{'similar_filter_TextSimilaritySpace_b35f_Recipe_Ingredient_Names_Text_value_param__': 'eggs', 'similar_filter_TextSimilaritySpace_b35f_Recipe_Ingredient_Names_Text_weight_param__': 1.0, 'hard_filter_Preparation_Time_be_less_than_or_equal_to_param__': 30.0, 'hard_filter_Calories_be_less_than_or_equal_to_param__': 200.0, 'hard_filter_Category_contain_all_of_param__': ['Breakfast'], 'limit_param__': 3, 'select_param__': ['Name', 'Ingredient_Names_Text', 'Instructions', 'Rating_Value', 'Preparation_Time', 'Cooking_Time', 'Category', 'Cuisine', 'Calories', 'Carbohydrates', 'Cholesterol', 'Fiber', 'Protein', 'Saturated_Fat', 'Sodium', 'Sugar', 'Fat', 'Unsaturated_Fat', 'Nutrition', 'Ingredients', 'URL'], 'radius_param__': None, 'space_weight_TextSimilaritySpace_ec64_param__': 1.0, 'space_weight_TextSimilaritySpace_b35f_param__': 1.0, 'space_weight_TextSimilaritySpace_2c3a_param__': 1.0, 'space_weight_NumberSpace_71d9_param__': 1.0, 'space_weight_NumberSpace_5523_param__': 1.0, 'space_weight_NumberSpace_8979_param__': 1.0, 'space_weight_NumberSpace_55eb_param__': None, 'space_weight_NumberSpace_2133_param__': None}\n"
     ]
    },
    {
     "data": {
      "text/html": [
       "<div>\n",
       "<style scoped>\n",
       "    .dataframe tbody tr th:only-of-type {\n",
       "        vertical-align: middle;\n",
       "    }\n",
       "\n",
       "    .dataframe tbody tr th {\n",
       "        vertical-align: top;\n",
       "    }\n",
       "\n",
       "    .dataframe thead th {\n",
       "        text-align: right;\n",
       "    }\n",
       "</style>\n",
       "<table border=\"1\" class=\"dataframe\">\n",
       "  <thead>\n",
       "    <tr style=\"text-align: right;\">\n",
       "      <th></th>\n",
       "      <th>Name</th>\n",
       "      <th>Ingredient_Names_Text</th>\n",
       "      <th>Instructions</th>\n",
       "      <th>Rating_Value</th>\n",
       "      <th>Preparation_Time</th>\n",
       "      <th>Cooking_Time</th>\n",
       "      <th>Category</th>\n",
       "      <th>Cuisine</th>\n",
       "      <th>Calories</th>\n",
       "      <th>Carbohydrates</th>\n",
       "      <th>...</th>\n",
       "      <th>Saturated_Fat</th>\n",
       "      <th>Sodium</th>\n",
       "      <th>Sugar</th>\n",
       "      <th>Fat</th>\n",
       "      <th>Unsaturated_Fat</th>\n",
       "      <th>Nutrition</th>\n",
       "      <th>Ingredients</th>\n",
       "      <th>URL</th>\n",
       "      <th>id</th>\n",
       "      <th>similarity_score</th>\n",
       "    </tr>\n",
       "  </thead>\n",
       "  <tbody>\n",
       "    <tr>\n",
       "      <th>0</th>\n",
       "      <td>Farm-Fresh Poached Eggs</td>\n",
       "      <td>water egg and_black_pepper_to_taste</td>\n",
       "      <td>Fill a wide pan with 4 cups water (about 3 inc...</td>\n",
       "      <td>5.0</td>\n",
       "      <td>5.0</td>\n",
       "      <td>10.0</td>\n",
       "      <td>[Breakfast]</td>\n",
       "      <td>[American]</td>\n",
       "      <td>72.0</td>\n",
       "      <td>0.0</td>\n",
       "      <td>...</td>\n",
       "      <td>2.0</td>\n",
       "      <td>84.0</td>\n",
       "      <td>0.0</td>\n",
       "      <td>5.0</td>\n",
       "      <td>0.0</td>\n",
       "      <td>{\"Calories\": \"72 kcal\", \"Carbohydrates\": \"0 g\"...</td>\n",
       "      <td>[{'ingredient': 'water', 'quantity': '4', 'uni...</td>\n",
       "      <td>https://www.allrecipes.com/recipe/284908/farm-...</td>\n",
       "      <td>rec259</td>\n",
       "      <td>0.874213</td>\n",
       "    </tr>\n",
       "    <tr>\n",
       "      <th>1</th>\n",
       "      <td>French Toast Sticks</td>\n",
       "      <td>eggs powdered_sugar milk maple_syrup brown_sug...</td>\n",
       "      <td>Gather all ingredients. Mix eggs, powdered sug...</td>\n",
       "      <td>4.7</td>\n",
       "      <td>10.0</td>\n",
       "      <td>10.0</td>\n",
       "      <td>[Breakfast]</td>\n",
       "      <td>[American]</td>\n",
       "      <td>167.0</td>\n",
       "      <td>30.0</td>\n",
       "      <td>...</td>\n",
       "      <td>1.0</td>\n",
       "      <td>182.0</td>\n",
       "      <td>16.0</td>\n",
       "      <td>3.0</td>\n",
       "      <td>0.0</td>\n",
       "      <td>{\"Calories\": \"167 kcal\", \"Carbohydrates\": \"30 ...</td>\n",
       "      <td>[{'ingredient': 'eggs', 'quantity': '2', 'unit...</td>\n",
       "      <td>https://www.allrecipes.com/recipe/280405/frenc...</td>\n",
       "      <td>rec148</td>\n",
       "      <td>0.850909</td>\n",
       "    </tr>\n",
       "    <tr>\n",
       "      <th>2</th>\n",
       "      <td>Cast Iron Skillet Vegetable Frittata</td>\n",
       "      <td>bacon_grease broccoli onion bell_pepper black_...</td>\n",
       "      <td>Preheat the oven to 350 degrees F (175 degrees...</td>\n",
       "      <td>4.5</td>\n",
       "      <td>20.0</td>\n",
       "      <td>30.0</td>\n",
       "      <td>[Breakfast]</td>\n",
       "      <td>[American]</td>\n",
       "      <td>173.0</td>\n",
       "      <td>10.0</td>\n",
       "      <td>...</td>\n",
       "      <td>4.0</td>\n",
       "      <td>355.0</td>\n",
       "      <td>4.0</td>\n",
       "      <td>10.0</td>\n",
       "      <td>0.0</td>\n",
       "      <td>{\"Calories\": \"173 kcal\", \"Carbohydrates\": \"10 ...</td>\n",
       "      <td>[{'ingredient': 'bacon grease', 'quantity': '3...</td>\n",
       "      <td>https://www.allrecipes.com/recipe/275456/cast-...</td>\n",
       "      <td>rec345</td>\n",
       "      <td>0.838125</td>\n",
       "    </tr>\n",
       "  </tbody>\n",
       "</table>\n",
       "<p>3 rows × 23 columns</p>\n",
       "</div>"
      ],
      "text/plain": [
       "                                   Name  \\\n",
       "0               Farm-Fresh Poached Eggs   \n",
       "1                   French Toast Sticks   \n",
       "2  Cast Iron Skillet Vegetable Frittata   \n",
       "\n",
       "                               Ingredient_Names_Text  \\\n",
       "0                water egg and_black_pepper_to_taste   \n",
       "1  eggs powdered_sugar milk maple_syrup brown_sug...   \n",
       "2  bacon_grease broccoli onion bell_pepper black_...   \n",
       "\n",
       "                                        Instructions  Rating_Value  \\\n",
       "0  Fill a wide pan with 4 cups water (about 3 inc...           5.0   \n",
       "1  Gather all ingredients. Mix eggs, powdered sug...           4.7   \n",
       "2  Preheat the oven to 350 degrees F (175 degrees...           4.5   \n",
       "\n",
       "   Preparation_Time  Cooking_Time     Category     Cuisine  Calories  \\\n",
       "0               5.0          10.0  [Breakfast]  [American]      72.0   \n",
       "1              10.0          10.0  [Breakfast]  [American]     167.0   \n",
       "2              20.0          30.0  [Breakfast]  [American]     173.0   \n",
       "\n",
       "   Carbohydrates  ...  Saturated_Fat  Sodium  Sugar   Fat  Unsaturated_Fat  \\\n",
       "0            0.0  ...            2.0    84.0    0.0   5.0              0.0   \n",
       "1           30.0  ...            1.0   182.0   16.0   3.0              0.0   \n",
       "2           10.0  ...            4.0   355.0    4.0  10.0              0.0   \n",
       "\n",
       "                                           Nutrition  \\\n",
       "0  {\"Calories\": \"72 kcal\", \"Carbohydrates\": \"0 g\"...   \n",
       "1  {\"Calories\": \"167 kcal\", \"Carbohydrates\": \"30 ...   \n",
       "2  {\"Calories\": \"173 kcal\", \"Carbohydrates\": \"10 ...   \n",
       "\n",
       "                                         Ingredients  \\\n",
       "0  [{'ingredient': 'water', 'quantity': '4', 'uni...   \n",
       "1  [{'ingredient': 'eggs', 'quantity': '2', 'unit...   \n",
       "2  [{'ingredient': 'bacon grease', 'quantity': '3...   \n",
       "\n",
       "                                                 URL      id similarity_score  \n",
       "0  https://www.allrecipes.com/recipe/284908/farm-...  rec259         0.874213  \n",
       "1  https://www.allrecipes.com/recipe/280405/frenc...  rec148         0.850909  \n",
       "2  https://www.allrecipes.com/recipe/275456/cast-...  rec345         0.838125  \n",
       "\n",
       "[3 rows x 23 columns]"
      ]
     },
     "execution_count": 6,
     "metadata": {},
     "output_type": "execute_result"
    }
   ],
   "source": [
    "params = {\n",
    "    \"cust_natural_query\": \"breakfast with eggs from German cuisine, with preparation time lower than 30 minutes with calories lower than 200\",\n",
    "    \"limit\": 3,\n",
    "}\n",
    "\n",
    "\n",
    "# Use your run_search function to handle NLQ and querying\n",
    "result = run_search(params[\"cust_natural_query\"], app, limit=params.get(\"limit\", 5))\n",
    "\n",
    "# Print search parameters and convert results to pandas DataFrame\n",
    "print(getattr(result.metadata, \"search_params\", \"No search_params metadata\"))\n",
    "df = sl.PandasConverter.to_pandas(result)\n",
    "df"
   ]
  },
  {
   "cell_type": "code",
   "execution_count": null,
   "metadata": {},
   "outputs": [
    {
     "data": {
      "text/html": [
       "<div>\n",
       "<style scoped>\n",
       "    .dataframe tbody tr th:only-of-type {\n",
       "        vertical-align: middle;\n",
       "    }\n",
       "\n",
       "    .dataframe tbody tr th {\n",
       "        vertical-align: top;\n",
       "    }\n",
       "\n",
       "    .dataframe thead th {\n",
       "        text-align: right;\n",
       "    }\n",
       "</style>\n",
       "<table border=\"1\" class=\"dataframe\">\n",
       "  <thead>\n",
       "    <tr style=\"text-align: right;\">\n",
       "      <th></th>\n",
       "      <th>id</th>\n",
       "      <th>name</th>\n",
       "      <th>ingredents</th>\n",
       "      <th>instructions</th>\n",
       "      <th>rating</th>\n",
       "      <th>prep_time</th>\n",
       "      <th>cooking_time</th>\n",
       "      <th>calories</th>\n",
       "      <th>protein</th>\n",
       "    </tr>\n",
       "  </thead>\n",
       "  <tbody>\n",
       "    <tr>\n",
       "      <th>0</th>\n",
       "      <td>rec259</td>\n",
       "      <td>0.0</td>\n",
       "      <td>0.124695</td>\n",
       "      <td>0.0</td>\n",
       "      <td>0.250000</td>\n",
       "      <td>0.250000</td>\n",
       "      <td>0.249634</td>\n",
       "      <td>0.0</td>\n",
       "      <td>0.0</td>\n",
       "    </tr>\n",
       "    <tr>\n",
       "      <th>1</th>\n",
       "      <td>rec148</td>\n",
       "      <td>0.0</td>\n",
       "      <td>0.102783</td>\n",
       "      <td>0.0</td>\n",
       "      <td>0.248901</td>\n",
       "      <td>0.249634</td>\n",
       "      <td>0.249634</td>\n",
       "      <td>0.0</td>\n",
       "      <td>0.0</td>\n",
       "    </tr>\n",
       "    <tr>\n",
       "      <th>2</th>\n",
       "      <td>rec345</td>\n",
       "      <td>0.0</td>\n",
       "      <td>0.095703</td>\n",
       "      <td>0.0</td>\n",
       "      <td>0.246826</td>\n",
       "      <td>0.248535</td>\n",
       "      <td>0.246826</td>\n",
       "      <td>0.0</td>\n",
       "      <td>0.0</td>\n",
       "    </tr>\n",
       "  </tbody>\n",
       "</table>\n",
       "</div>"
      ],
      "text/plain": [
       "       id  name  ingredents  instructions    rating  prep_time  cooking_time  \\\n",
       "0  rec259   0.0    0.124695           0.0  0.250000   0.250000      0.249634   \n",
       "1  rec148   0.0    0.102783           0.0  0.248901   0.249634      0.249634   \n",
       "2  rec345   0.0    0.095703           0.0  0.246826   0.248535      0.246826   \n",
       "\n",
       "   calories  protein  \n",
       "0       0.0      0.0  \n",
       "1       0.0      0.0  \n",
       "2       0.0      0.0  "
      ]
     },
     "execution_count": 7,
     "metadata": {},
     "output_type": "execute_result"
    }
   ],
   "source": [
    "rows = []\n",
    "\n",
    "space_names = [\"name\", \"ingredents\", \"instructions\", \"rating\", \"prep_time\", \"cooking_time\", \"calories\", \"protein\"]\n",
    "\n",
    "# order of spaces is the same as during index creation\n",
    "\n",
    "for entry in result.entries:\n",
    "    partial_scores = dict(zip(space_names, entry.metadata.partial_scores))\n",
    "    row = {\"id\": entry.id, **partial_scores}\n",
    "    rows.append(row)\n",
    "\n",
    "df = pd.DataFrame(rows)\n",
    "df"
   ]
  }
 ],
 "metadata": {
  "kernelspec": {
   "display_name": ".venv",
   "language": "python",
   "name": "python3"
  },
  "language_info": {
   "codemirror_mode": {
    "name": "ipython",
    "version": 3
   },
   "file_extension": ".py",
   "mimetype": "text/x-python",
   "name": "python",
   "nbconvert_exporter": "python",
   "pygments_lexer": "ipython3",
   "version": "3.12.3"
  }
 },
 "nbformat": 4,
 "nbformat_minor": 4
}
